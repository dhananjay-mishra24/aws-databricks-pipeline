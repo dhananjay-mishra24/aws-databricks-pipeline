{
 "cells": [
  {
   "cell_type": "code",
   "execution_count": 0,
   "metadata": {
    "application/vnd.databricks.v1+cell": {
     "cellMetadata": {
      "byteLimit": 2048000,
      "rowLimit": 10000
     },
     "inputWidgets": {},
     "nuid": "1f22c80f-2ea0-4e76-ad3f-1a326f716844",
     "showTitle": false,
     "tableResultSettingsMap": {},
     "title": ""
    }
   },
   "outputs": [],
   "source": [
    "# Replace these with your actual credentials\n",
    "ACCESS_KEY = \"Access_key\"\n",
    "SECRET_KEY = \"Secret_key\"\n",
    "REGION = \"ap-southeast-2\"  # or your actual region"
   ]
  },
  {
   "cell_type": "code",
   "execution_count": 0,
   "metadata": {
    "application/vnd.databricks.v1+cell": {
     "cellMetadata": {
      "byteLimit": 2048000,
      "rowLimit": 10000
     },
     "inputWidgets": {},
     "nuid": "916c0c3f-7156-431d-98ca-0d403af23d78",
     "showTitle": false,
     "tableResultSettingsMap": {},
     "title": ""
    }
   },
   "outputs": [],
   "source": [
    "# Configure S3 access\n",
    "spark._jsc.hadoopConfiguration().set(\"fs.s3a.access.key\", ACCESS_KEY)\n",
    "spark._jsc.hadoopConfiguration().set(\"fs.s3a.secret.key\", SECRET_KEY)\n",
    "spark._jsc.hadoopConfiguration().set(\"fs.s3a.endpoint\", f\"s3.{REGION}.amazonaws.com\")"
   ]
  },
  {
   "cell_type": "code",
   "execution_count": 0,
   "metadata": {
    "application/vnd.databricks.v1+cell": {
     "cellMetadata": {
      "byteLimit": 2048000,
      "rowLimit": 10000
     },
     "inputWidgets": {},
     "nuid": "ffb10bee-9ed2-4398-a419-bd17d40b7a86",
     "showTitle": false,
     "tableResultSettingsMap": {},
     "title": ""
    }
   },
   "outputs": [
    {
     "output_type": "stream",
     "name": "stdout",
     "output_type": "stream",
     "text": [
      "+--------+---------+-----------+----------+-----------+---------+------------------+------------+----------+-------------------+-----------------------+---------------------+------------------------------+------------------------+----------------------+-------------------------------+-----------------+------------+------------------------+-------------+-------------------------+---------------------+---------------------------------+----------------------+----------------------------------+---------+-----------+------------------------+----------------------+------------------+-------------------------------+-------------+--------------+-----------+------------------+-----------------+-----------------------+--------------+----------------+-------------------------+------------------------------+-----------------------------+-----------------------------------+--------------------------+-------------------------------------+------------------------------+------------------------------------------+----------------+-----------+------------------+----------+-------------+-------------+--------------+---------------+---------------------+-------------------+--------------+------------+----------------------+--------------------------+---------------+-----------------------+------------------------------------+---------------------------+----------------+---------------------------------------+\n|iso_code|continent|   location|      date|total_cases|new_cases|new_cases_smoothed|total_deaths|new_deaths|new_deaths_smoothed|total_cases_per_million|new_cases_per_million|new_cases_smoothed_per_million|total_deaths_per_million|new_deaths_per_million|new_deaths_smoothed_per_million|reproduction_rate|icu_patients|icu_patients_per_million|hosp_patients|hosp_patients_per_million|weekly_icu_admissions|weekly_icu_admissions_per_million|weekly_hosp_admissions|weekly_hosp_admissions_per_million|new_tests|total_tests|total_tests_per_thousand|new_tests_per_thousand|new_tests_smoothed|new_tests_smoothed_per_thousand|positive_rate|tests_per_case|tests_units|total_vaccinations|people_vaccinated|people_fully_vaccinated|total_boosters|new_vaccinations|new_vaccinations_smoothed|total_vaccinations_per_hundred|people_vaccinated_per_hundred|people_fully_vaccinated_per_hundred|total_boosters_per_hundred|new_vaccinations_smoothed_per_million|new_people_vaccinated_smoothed|new_people_vaccinated_smoothed_per_hundred|stringency_index| population|population_density|median_age|aged_65_older|aged_70_older|gdp_per_capita|extreme_poverty|cardiovasc_death_rate|diabetes_prevalence|female_smokers|male_smokers|handwashing_facilities|hospital_beds_per_thousand|life_expectancy|human_development_index|excess_mortality_cumulative_absolute|excess_mortality_cumulative|excess_mortality|excess_mortality_cumulative_per_million|\n+--------+---------+-----------+----------+-----------+---------+------------------+------------+----------+-------------------+-----------------------+---------------------+------------------------------+------------------------+----------------------+-------------------------------+-----------------+------------+------------------------+-------------+-------------------------+---------------------+---------------------------------+----------------------+----------------------------------+---------+-----------+------------------------+----------------------+------------------+-------------------------------+-------------+--------------+-----------+------------------+-----------------+-----------------------+--------------+----------------+-------------------------+------------------------------+-----------------------------+-----------------------------------+--------------------------+-------------------------------------+------------------------------+------------------------------------------+----------------+-----------+------------------+----------+-------------+-------------+--------------+---------------+---------------------+-------------------+--------------+------------+----------------------+--------------------------+---------------+-----------------------+------------------------------------+---------------------------+----------------+---------------------------------------+\n|     AFG|     Asia|Afghanistan|2020-02-24|        5.0|      5.0|              null|        null|      null|               null|                  0.126|                0.126|                          null|                    null|                  null|                           null|             null|        null|                    null|         null|                     null|                 null|                             null|                  null|                              null|     null|       null|                    null|                  null|              null|                           null|         null|          null|       null|              null|             null|                   null|          null|            null|                     null|                          null|                         null|                               null|                      null|                                 null|                          null|                                      null|            8.33|3.9835428E7|            54.422|      18.6|        2.581|        1.337|      1803.987|           null|              597.029|               9.59|          null|        null|                37.746|                       0.5|          64.83|                  0.511|                                null|                       null|            null|                                   null|\n|     AFG|     Asia|Afghanistan|2020-02-25|        5.0|      0.0|              null|        null|      null|               null|                  0.126|                  0.0|                          null|                    null|                  null|                           null|             null|        null|                    null|         null|                     null|                 null|                             null|                  null|                              null|     null|       null|                    null|                  null|              null|                           null|         null|          null|       null|              null|             null|                   null|          null|            null|                     null|                          null|                         null|                               null|                      null|                                 null|                          null|                                      null|            8.33|3.9835428E7|            54.422|      18.6|        2.581|        1.337|      1803.987|           null|              597.029|               9.59|          null|        null|                37.746|                       0.5|          64.83|                  0.511|                                null|                       null|            null|                                   null|\n|     AFG|     Asia|Afghanistan|2020-02-26|        5.0|      0.0|              null|        null|      null|               null|                  0.126|                  0.0|                          null|                    null|                  null|                           null|             null|        null|                    null|         null|                     null|                 null|                             null|                  null|                              null|     null|       null|                    null|                  null|              null|                           null|         null|          null|       null|              null|             null|                   null|          null|            null|                     null|                          null|                         null|                               null|                      null|                                 null|                          null|                                      null|            8.33|3.9835428E7|            54.422|      18.6|        2.581|        1.337|      1803.987|           null|              597.029|               9.59|          null|        null|                37.746|                       0.5|          64.83|                  0.511|                                null|                       null|            null|                                   null|\n|     AFG|     Asia|Afghanistan|2020-02-27|        5.0|      0.0|              null|        null|      null|               null|                  0.126|                  0.0|                          null|                    null|                  null|                           null|             null|        null|                    null|         null|                     null|                 null|                             null|                  null|                              null|     null|       null|                    null|                  null|              null|                           null|         null|          null|       null|              null|             null|                   null|          null|            null|                     null|                          null|                         null|                               null|                      null|                                 null|                          null|                                      null|            8.33|3.9835428E7|            54.422|      18.6|        2.581|        1.337|      1803.987|           null|              597.029|               9.59|          null|        null|                37.746|                       0.5|          64.83|                  0.511|                                null|                       null|            null|                                   null|\n|     AFG|     Asia|Afghanistan|2020-02-28|        5.0|      0.0|              null|        null|      null|               null|                  0.126|                  0.0|                          null|                    null|                  null|                           null|             null|        null|                    null|         null|                     null|                 null|                             null|                  null|                              null|     null|       null|                    null|                  null|              null|                           null|         null|          null|       null|              null|             null|                   null|          null|            null|                     null|                          null|                         null|                               null|                      null|                                 null|                          null|                                      null|            8.33|3.9835428E7|            54.422|      18.6|        2.581|        1.337|      1803.987|           null|              597.029|               9.59|          null|        null|                37.746|                       0.5|          64.83|                  0.511|                                null|                       null|            null|                                   null|\n+--------+---------+-----------+----------+-----------+---------+------------------+------------+----------+-------------------+-----------------------+---------------------+------------------------------+------------------------+----------------------+-------------------------------+-----------------+------------+------------------------+-------------+-------------------------+---------------------+---------------------------------+----------------------+----------------------------------+---------+-----------+------------------------+----------------------+------------------+-------------------------------+-------------+--------------+-----------+------------------+-----------------+-----------------------+--------------+----------------+-------------------------+------------------------------+-----------------------------+-----------------------------------+--------------------------+-------------------------------------+------------------------------+------------------------------------------+----------------+-----------+------------------+----------+-------------+-------------+--------------+---------------+---------------------+-------------------+--------------+------------+----------------------+--------------------------+---------------+-----------------------+------------------------------------+---------------------------+----------------+---------------------------------------+\nonly showing top 5 rows\n\n"
     ]
    }
   ],
   "source": [
    "csv_path = \"s3a://dj-databricks-pipeline/owid-covid-data.csv\"\n",
    "\n",
    "df = spark.read.option(\"header\", True).option(\"inferSchema\", True).csv(csv_path)\n",
    "\n",
    "display(df.show(5))\n"
   ]
  },
  {
   "cell_type": "code",
   "execution_count": 0,
   "metadata": {
    "application/vnd.databricks.v1+cell": {
     "cellMetadata": {
      "byteLimit": 2048000,
      "rowLimit": 10000
     },
     "inputWidgets": {},
     "nuid": "2cd30651-55c6-4108-8921-197cef37f1b4",
     "showTitle": false,
     "tableResultSettingsMap": {},
     "title": ""
    }
   },
   "outputs": [
    {
     "output_type": "display_data",
     "data": {
      "text/html": [
       "<style scoped>\n",
       "  .table-result-container {\n",
       "    max-height: 300px;\n",
       "    overflow: auto;\n",
       "  }\n",
       "  table, th, td {\n",
       "    border: 1px solid black;\n",
       "    border-collapse: collapse;\n",
       "  }\n",
       "  th, td {\n",
       "    padding: 5px;\n",
       "  }\n",
       "  th {\n",
       "    text-align: left;\n",
       "  }\n",
       "</style><div class='table-result-container'><table class='table-result'><thead style='background-color: white'><tr><th>iso_code</th><th>continent</th><th>location</th><th>date</th><th>total_cases</th><th>new_cases</th><th>new_cases_smoothed</th><th>total_deaths</th><th>new_deaths</th><th>new_deaths_smoothed</th><th>total_cases_per_million</th><th>new_cases_per_million</th><th>new_cases_smoothed_per_million</th><th>total_deaths_per_million</th><th>new_deaths_per_million</th><th>new_deaths_smoothed_per_million</th><th>reproduction_rate</th><th>icu_patients</th><th>icu_patients_per_million</th><th>hosp_patients</th><th>hosp_patients_per_million</th><th>weekly_icu_admissions</th><th>weekly_icu_admissions_per_million</th><th>weekly_hosp_admissions</th><th>weekly_hosp_admissions_per_million</th><th>new_tests</th><th>total_tests</th><th>total_tests_per_thousand</th><th>new_tests_per_thousand</th><th>new_tests_smoothed</th><th>new_tests_smoothed_per_thousand</th><th>positive_rate</th><th>tests_per_case</th><th>tests_units</th><th>total_vaccinations</th><th>people_vaccinated</th><th>people_fully_vaccinated</th><th>total_boosters</th><th>new_vaccinations</th><th>new_vaccinations_smoothed</th><th>total_vaccinations_per_hundred</th><th>people_vaccinated_per_hundred</th><th>people_fully_vaccinated_per_hundred</th><th>total_boosters_per_hundred</th><th>new_vaccinations_smoothed_per_million</th><th>new_people_vaccinated_smoothed</th><th>new_people_vaccinated_smoothed_per_hundred</th><th>stringency_index</th><th>population</th><th>population_density</th><th>median_age</th><th>aged_65_older</th><th>aged_70_older</th><th>gdp_per_capita</th><th>extreme_poverty</th><th>cardiovasc_death_rate</th><th>diabetes_prevalence</th><th>female_smokers</th><th>male_smokers</th><th>handwashing_facilities</th><th>hospital_beds_per_thousand</th><th>life_expectancy</th><th>human_development_index</th><th>excess_mortality_cumulative_absolute</th><th>excess_mortality_cumulative</th><th>excess_mortality</th><th>excess_mortality_cumulative_per_million</th></tr></thead><tbody><tr><td>AFG</td><td>Asia</td><td>Afghanistan</td><td>2020-02-24</td><td>5.0</td><td>5.0</td><td>null</td><td>null</td><td>null</td><td>null</td><td>0.126</td><td>0.126</td><td>null</td><td>null</td><td>null</td><td>null</td><td>null</td><td>null</td><td>null</td><td>null</td><td>null</td><td>null</td><td>null</td><td>null</td><td>null</td><td>null</td><td>null</td><td>null</td><td>null</td><td>null</td><td>null</td><td>null</td><td>null</td><td>null</td><td>null</td><td>null</td><td>null</td><td>null</td><td>null</td><td>null</td><td>null</td><td>null</td><td>null</td><td>null</td><td>null</td><td>null</td><td>null</td><td>8.33</td><td>3.9835428E7</td><td>54.422</td><td>18.6</td><td>2.581</td><td>1.337</td><td>1803.987</td><td>null</td><td>597.029</td><td>9.59</td><td>null</td><td>null</td><td>37.746</td><td>0.5</td><td>64.83</td><td>0.511</td><td>null</td><td>null</td><td>null</td><td>null</td></tr><tr><td>AFG</td><td>Asia</td><td>Afghanistan</td><td>2020-02-25</td><td>5.0</td><td>0.0</td><td>null</td><td>null</td><td>null</td><td>null</td><td>0.126</td><td>0.0</td><td>null</td><td>null</td><td>null</td><td>null</td><td>null</td><td>null</td><td>null</td><td>null</td><td>null</td><td>null</td><td>null</td><td>null</td><td>null</td><td>null</td><td>null</td><td>null</td><td>null</td><td>null</td><td>null</td><td>null</td><td>null</td><td>null</td><td>null</td><td>null</td><td>null</td><td>null</td><td>null</td><td>null</td><td>null</td><td>null</td><td>null</td><td>null</td><td>null</td><td>null</td><td>null</td><td>8.33</td><td>3.9835428E7</td><td>54.422</td><td>18.6</td><td>2.581</td><td>1.337</td><td>1803.987</td><td>null</td><td>597.029</td><td>9.59</td><td>null</td><td>null</td><td>37.746</td><td>0.5</td><td>64.83</td><td>0.511</td><td>null</td><td>null</td><td>null</td><td>null</td></tr><tr><td>AFG</td><td>Asia</td><td>Afghanistan</td><td>2020-02-26</td><td>5.0</td><td>0.0</td><td>null</td><td>null</td><td>null</td><td>null</td><td>0.126</td><td>0.0</td><td>null</td><td>null</td><td>null</td><td>null</td><td>null</td><td>null</td><td>null</td><td>null</td><td>null</td><td>null</td><td>null</td><td>null</td><td>null</td><td>null</td><td>null</td><td>null</td><td>null</td><td>null</td><td>null</td><td>null</td><td>null</td><td>null</td><td>null</td><td>null</td><td>null</td><td>null</td><td>null</td><td>null</td><td>null</td><td>null</td><td>null</td><td>null</td><td>null</td><td>null</td><td>null</td><td>8.33</td><td>3.9835428E7</td><td>54.422</td><td>18.6</td><td>2.581</td><td>1.337</td><td>1803.987</td><td>null</td><td>597.029</td><td>9.59</td><td>null</td><td>null</td><td>37.746</td><td>0.5</td><td>64.83</td><td>0.511</td><td>null</td><td>null</td><td>null</td><td>null</td></tr><tr><td>AFG</td><td>Asia</td><td>Afghanistan</td><td>2020-02-27</td><td>5.0</td><td>0.0</td><td>null</td><td>null</td><td>null</td><td>null</td><td>0.126</td><td>0.0</td><td>null</td><td>null</td><td>null</td><td>null</td><td>null</td><td>null</td><td>null</td><td>null</td><td>null</td><td>null</td><td>null</td><td>null</td><td>null</td><td>null</td><td>null</td><td>null</td><td>null</td><td>null</td><td>null</td><td>null</td><td>null</td><td>null</td><td>null</td><td>null</td><td>null</td><td>null</td><td>null</td><td>null</td><td>null</td><td>null</td><td>null</td><td>null</td><td>null</td><td>null</td><td>null</td><td>8.33</td><td>3.9835428E7</td><td>54.422</td><td>18.6</td><td>2.581</td><td>1.337</td><td>1803.987</td><td>null</td><td>597.029</td><td>9.59</td><td>null</td><td>null</td><td>37.746</td><td>0.5</td><td>64.83</td><td>0.511</td><td>null</td><td>null</td><td>null</td><td>null</td></tr><tr><td>AFG</td><td>Asia</td><td>Afghanistan</td><td>2020-02-28</td><td>5.0</td><td>0.0</td><td>null</td><td>null</td><td>null</td><td>null</td><td>0.126</td><td>0.0</td><td>null</td><td>null</td><td>null</td><td>null</td><td>null</td><td>null</td><td>null</td><td>null</td><td>null</td><td>null</td><td>null</td><td>null</td><td>null</td><td>null</td><td>null</td><td>null</td><td>null</td><td>null</td><td>null</td><td>null</td><td>null</td><td>null</td><td>null</td><td>null</td><td>null</td><td>null</td><td>null</td><td>null</td><td>null</td><td>null</td><td>null</td><td>null</td><td>null</td><td>null</td><td>null</td><td>8.33</td><td>3.9835428E7</td><td>54.422</td><td>18.6</td><td>2.581</td><td>1.337</td><td>1803.987</td><td>null</td><td>597.029</td><td>9.59</td><td>null</td><td>null</td><td>37.746</td><td>0.5</td><td>64.83</td><td>0.511</td><td>null</td><td>null</td><td>null</td><td>null</td></tr></tbody></table></div>"
      ]
     },
     "metadata": {
      "application/vnd.databricks.v1+output": {
       "addedWidgets": {},
       "aggData": [],
       "aggError": "",
       "aggOverflow": false,
       "aggSchema": [],
       "aggSeriesLimitReached": false,
       "aggType": "",
       "arguments": {},
       "columnCustomDisplayInfos": {},
       "data": [
        [
         "AFG",
         "Asia",
         "Afghanistan",
         "2020-02-24",
         5.0,
         5.0,
         null,
         null,
         null,
         null,
         0.126,
         0.126,
         null,
         null,
         null,
         null,
         null,
         null,
         null,
         null,
         null,
         null,
         null,
         null,
         null,
         null,
         null,
         null,
         null,
         null,
         null,
         null,
         null,
         null,
         null,
         null,
         null,
         null,
         null,
         null,
         null,
         null,
         null,
         null,
         null,
         null,
         null,
         8.33,
         3.9835428E7,
         54.422,
         18.6,
         2.581,
         1.337,
         1803.987,
         null,
         597.029,
         9.59,
         null,
         null,
         37.746,
         0.5,
         64.83,
         0.511,
         null,
         null,
         null,
         null
        ],
        [
         "AFG",
         "Asia",
         "Afghanistan",
         "2020-02-25",
         5.0,
         0.0,
         null,
         null,
         null,
         null,
         0.126,
         0.0,
         null,
         null,
         null,
         null,
         null,
         null,
         null,
         null,
         null,
         null,
         null,
         null,
         null,
         null,
         null,
         null,
         null,
         null,
         null,
         null,
         null,
         null,
         null,
         null,
         null,
         null,
         null,
         null,
         null,
         null,
         null,
         null,
         null,
         null,
         null,
         8.33,
         3.9835428E7,
         54.422,
         18.6,
         2.581,
         1.337,
         1803.987,
         null,
         597.029,
         9.59,
         null,
         null,
         37.746,
         0.5,
         64.83,
         0.511,
         null,
         null,
         null,
         null
        ],
        [
         "AFG",
         "Asia",
         "Afghanistan",
         "2020-02-26",
         5.0,
         0.0,
         null,
         null,
         null,
         null,
         0.126,
         0.0,
         null,
         null,
         null,
         null,
         null,
         null,
         null,
         null,
         null,
         null,
         null,
         null,
         null,
         null,
         null,
         null,
         null,
         null,
         null,
         null,
         null,
         null,
         null,
         null,
         null,
         null,
         null,
         null,
         null,
         null,
         null,
         null,
         null,
         null,
         null,
         8.33,
         3.9835428E7,
         54.422,
         18.6,
         2.581,
         1.337,
         1803.987,
         null,
         597.029,
         9.59,
         null,
         null,
         37.746,
         0.5,
         64.83,
         0.511,
         null,
         null,
         null,
         null
        ],
        [
         "AFG",
         "Asia",
         "Afghanistan",
         "2020-02-27",
         5.0,
         0.0,
         null,
         null,
         null,
         null,
         0.126,
         0.0,
         null,
         null,
         null,
         null,
         null,
         null,
         null,
         null,
         null,
         null,
         null,
         null,
         null,
         null,
         null,
         null,
         null,
         null,
         null,
         null,
         null,
         null,
         null,
         null,
         null,
         null,
         null,
         null,
         null,
         null,
         null,
         null,
         null,
         null,
         null,
         8.33,
         3.9835428E7,
         54.422,
         18.6,
         2.581,
         1.337,
         1803.987,
         null,
         597.029,
         9.59,
         null,
         null,
         37.746,
         0.5,
         64.83,
         0.511,
         null,
         null,
         null,
         null
        ],
        [
         "AFG",
         "Asia",
         "Afghanistan",
         "2020-02-28",
         5.0,
         0.0,
         null,
         null,
         null,
         null,
         0.126,
         0.0,
         null,
         null,
         null,
         null,
         null,
         null,
         null,
         null,
         null,
         null,
         null,
         null,
         null,
         null,
         null,
         null,
         null,
         null,
         null,
         null,
         null,
         null,
         null,
         null,
         null,
         null,
         null,
         null,
         null,
         null,
         null,
         null,
         null,
         null,
         null,
         8.33,
         3.9835428E7,
         54.422,
         18.6,
         2.581,
         1.337,
         1803.987,
         null,
         597.029,
         9.59,
         null,
         null,
         37.746,
         0.5,
         64.83,
         0.511,
         null,
         null,
         null,
         null
        ]
       ],
       "datasetInfos": [],
       "dbfsResultPath": null,
       "isJsonSchema": true,
       "metadata": {},
       "overflow": false,
       "plotOptions": {
        "customPlotOptions": {},
        "displayType": "table",
        "pivotAggregation": null,
        "pivotColumns": null,
        "xColumns": null,
        "yColumns": null
       },
       "removedWidgets": [],
       "schema": [
        {
         "metadata": "{}",
         "name": "iso_code",
         "type": "\"string\""
        },
        {
         "metadata": "{}",
         "name": "continent",
         "type": "\"string\""
        },
        {
         "metadata": "{}",
         "name": "location",
         "type": "\"string\""
        },
        {
         "metadata": "{}",
         "name": "date",
         "type": "\"date\""
        },
        {
         "metadata": "{}",
         "name": "total_cases",
         "type": "\"double\""
        },
        {
         "metadata": "{}",
         "name": "new_cases",
         "type": "\"double\""
        },
        {
         "metadata": "{}",
         "name": "new_cases_smoothed",
         "type": "\"double\""
        },
        {
         "metadata": "{}",
         "name": "total_deaths",
         "type": "\"double\""
        },
        {
         "metadata": "{}",
         "name": "new_deaths",
         "type": "\"double\""
        },
        {
         "metadata": "{}",
         "name": "new_deaths_smoothed",
         "type": "\"double\""
        },
        {
         "metadata": "{}",
         "name": "total_cases_per_million",
         "type": "\"double\""
        },
        {
         "metadata": "{}",
         "name": "new_cases_per_million",
         "type": "\"double\""
        },
        {
         "metadata": "{}",
         "name": "new_cases_smoothed_per_million",
         "type": "\"double\""
        },
        {
         "metadata": "{}",
         "name": "total_deaths_per_million",
         "type": "\"double\""
        },
        {
         "metadata": "{}",
         "name": "new_deaths_per_million",
         "type": "\"double\""
        },
        {
         "metadata": "{}",
         "name": "new_deaths_smoothed_per_million",
         "type": "\"double\""
        },
        {
         "metadata": "{}",
         "name": "reproduction_rate",
         "type": "\"double\""
        },
        {
         "metadata": "{}",
         "name": "icu_patients",
         "type": "\"double\""
        },
        {
         "metadata": "{}",
         "name": "icu_patients_per_million",
         "type": "\"double\""
        },
        {
         "metadata": "{}",
         "name": "hosp_patients",
         "type": "\"double\""
        },
        {
         "metadata": "{}",
         "name": "hosp_patients_per_million",
         "type": "\"double\""
        },
        {
         "metadata": "{}",
         "name": "weekly_icu_admissions",
         "type": "\"double\""
        },
        {
         "metadata": "{}",
         "name": "weekly_icu_admissions_per_million",
         "type": "\"double\""
        },
        {
         "metadata": "{}",
         "name": "weekly_hosp_admissions",
         "type": "\"double\""
        },
        {
         "metadata": "{}",
         "name": "weekly_hosp_admissions_per_million",
         "type": "\"double\""
        },
        {
         "metadata": "{}",
         "name": "new_tests",
         "type": "\"double\""
        },
        {
         "metadata": "{}",
         "name": "total_tests",
         "type": "\"double\""
        },
        {
         "metadata": "{}",
         "name": "total_tests_per_thousand",
         "type": "\"double\""
        },
        {
         "metadata": "{}",
         "name": "new_tests_per_thousand",
         "type": "\"double\""
        },
        {
         "metadata": "{}",
         "name": "new_tests_smoothed",
         "type": "\"double\""
        },
        {
         "metadata": "{}",
         "name": "new_tests_smoothed_per_thousand",
         "type": "\"double\""
        },
        {
         "metadata": "{}",
         "name": "positive_rate",
         "type": "\"double\""
        },
        {
         "metadata": "{}",
         "name": "tests_per_case",
         "type": "\"double\""
        },
        {
         "metadata": "{}",
         "name": "tests_units",
         "type": "\"void\""
        },
        {
         "metadata": "{}",
         "name": "total_vaccinations",
         "type": "\"double\""
        },
        {
         "metadata": "{}",
         "name": "people_vaccinated",
         "type": "\"double\""
        },
        {
         "metadata": "{}",
         "name": "people_fully_vaccinated",
         "type": "\"double\""
        },
        {
         "metadata": "{}",
         "name": "total_boosters",
         "type": "\"double\""
        },
        {
         "metadata": "{}",
         "name": "new_vaccinations",
         "type": "\"double\""
        },
        {
         "metadata": "{}",
         "name": "new_vaccinations_smoothed",
         "type": "\"double\""
        },
        {
         "metadata": "{}",
         "name": "total_vaccinations_per_hundred",
         "type": "\"double\""
        },
        {
         "metadata": "{}",
         "name": "people_vaccinated_per_hundred",
         "type": "\"double\""
        },
        {
         "metadata": "{}",
         "name": "people_fully_vaccinated_per_hundred",
         "type": "\"double\""
        },
        {
         "metadata": "{}",
         "name": "total_boosters_per_hundred",
         "type": "\"double\""
        },
        {
         "metadata": "{}",
         "name": "new_vaccinations_smoothed_per_million",
         "type": "\"double\""
        },
        {
         "metadata": "{}",
         "name": "new_people_vaccinated_smoothed",
         "type": "\"double\""
        },
        {
         "metadata": "{}",
         "name": "new_people_vaccinated_smoothed_per_hundred",
         "type": "\"double\""
        },
        {
         "metadata": "{}",
         "name": "stringency_index",
         "type": "\"double\""
        },
        {
         "metadata": "{}",
         "name": "population",
         "type": "\"double\""
        },
        {
         "metadata": "{}",
         "name": "population_density",
         "type": "\"double\""
        },
        {
         "metadata": "{}",
         "name": "median_age",
         "type": "\"double\""
        },
        {
         "metadata": "{}",
         "name": "aged_65_older",
         "type": "\"double\""
        },
        {
         "metadata": "{}",
         "name": "aged_70_older",
         "type": "\"double\""
        },
        {
         "metadata": "{}",
         "name": "gdp_per_capita",
         "type": "\"double\""
        },
        {
         "metadata": "{}",
         "name": "extreme_poverty",
         "type": "\"double\""
        },
        {
         "metadata": "{}",
         "name": "cardiovasc_death_rate",
         "type": "\"double\""
        },
        {
         "metadata": "{}",
         "name": "diabetes_prevalence",
         "type": "\"double\""
        },
        {
         "metadata": "{}",
         "name": "female_smokers",
         "type": "\"double\""
        },
        {
         "metadata": "{}",
         "name": "male_smokers",
         "type": "\"double\""
        },
        {
         "metadata": "{}",
         "name": "handwashing_facilities",
         "type": "\"double\""
        },
        {
         "metadata": "{}",
         "name": "hospital_beds_per_thousand",
         "type": "\"double\""
        },
        {
         "metadata": "{}",
         "name": "life_expectancy",
         "type": "\"double\""
        },
        {
         "metadata": "{}",
         "name": "human_development_index",
         "type": "\"double\""
        },
        {
         "metadata": "{}",
         "name": "excess_mortality_cumulative_absolute",
         "type": "\"double\""
        },
        {
         "metadata": "{}",
         "name": "excess_mortality_cumulative",
         "type": "\"double\""
        },
        {
         "metadata": "{}",
         "name": "excess_mortality",
         "type": "\"double\""
        },
        {
         "metadata": "{}",
         "name": "excess_mortality_cumulative_per_million",
         "type": "\"double\""
        }
       ],
       "type": "table"
      }
     },
     "output_type": "display_data"
    }
   ],
   "source": [
    "display(df.limit(5).toPandas()) #Since we are not able to read the data properly above now we will use toPandas functions to see the Data"
   ]
  },
  {
   "cell_type": "code",
   "execution_count": 0,
   "metadata": {
    "application/vnd.databricks.v1+cell": {
     "cellMetadata": {
      "byteLimit": 2048000,
      "rowLimit": 10000
     },
     "inputWidgets": {},
     "nuid": "6cdd97b3-70f0-4af7-be8a-f23760a70ad7",
     "showTitle": false,
     "tableResultSettingsMap": {},
     "title": ""
    }
   },
   "outputs": [
    {
     "output_type": "stream",
     "name": "stdout",
     "output_type": "stream",
     "text": [
      "Out[5]: 238"
     ]
    }
   ],
   "source": [
    "df.select(\"iso_code\").distinct().count() #Let us check the count of all unique values present in the iso_code"
   ]
  },
  {
   "cell_type": "code",
   "execution_count": 0,
   "metadata": {
    "application/vnd.databricks.v1+cell": {
     "cellMetadata": {
      "byteLimit": 2048000,
      "rowLimit": 10000
     },
     "inputWidgets": {},
     "nuid": "31f28ac6-1267-48e7-b26a-7142649cca3b",
     "showTitle": false,
     "tableResultSettingsMap": {},
     "title": ""
    }
   },
   "outputs": [
    {
     "output_type": "stream",
     "name": "stdout",
     "output_type": "stream",
     "text": [
      "+--------+-----+\n|iso_code|count|\n+--------+-----+\n|     BRB|  719|\n|     BRA|  739|\n|     ARM|  762|\n|     ABW|  723|\n|     BRN|  727|\n|     BOL|  725|\n|     ATG|  723|\n|OWID_AFR|  752|\n|     BHS|  720|\n|     BMU|  717|\n|     AZE|  735|\n|     AUS|  770|\n|     AFG|  741|\n|     BGD|  733|\n|     BLR|  737|\n|     BWA|  706|\n|     ALB|  740|\n|     BHR|  741|\n|     BIH|  731|\n|     AND|  734|\n+--------+-----+\nonly showing top 20 rows\n\n"
     ]
    }
   ],
   "source": [
    "df.groupBy(\"iso_code\").count().show() #TWe will be seeing the count of each country."
   ]
  },
  {
   "cell_type": "code",
   "execution_count": 0,
   "metadata": {
    "application/vnd.databricks.v1+cell": {
     "cellMetadata": {
      "byteLimit": 2048000,
      "rowLimit": 10000
     },
     "inputWidgets": {},
     "nuid": "bdf829d6-f82c-4d58-bc32-120741dc11dc",
     "showTitle": false,
     "tableResultSettingsMap": {},
     "title": ""
    }
   },
   "outputs": [
    {
     "output_type": "stream",
     "name": "stdout",
     "output_type": "stream",
     "text": [
      "Out[7]: 7"
     ]
    }
   ],
   "source": [
    "#LEt us see the count of the continents\n",
    "\n",
    "df.select(\"continent\").distinct().count()"
   ]
  },
  {
   "cell_type": "markdown",
   "metadata": {
    "application/vnd.databricks.v1+cell": {
     "cellMetadata": {},
     "inputWidgets": {},
     "nuid": "bf0ef09c-14ac-490c-a66d-8e15631e9fbf",
     "showTitle": false,
     "tableResultSettingsMap": {},
     "title": ""
    }
   },
   "source": [
    "We do have the data for all the 7 continents."
   ]
  },
  {
   "cell_type": "code",
   "execution_count": 0,
   "metadata": {
    "application/vnd.databricks.v1+cell": {
     "cellMetadata": {
      "byteLimit": 2048000,
      "rowLimit": 10000
     },
     "inputWidgets": {},
     "nuid": "ef84a089-bf99-46f8-8384-887c4f193c32",
     "showTitle": false,
     "tableResultSettingsMap": {},
     "title": ""
    }
   },
   "outputs": [
    {
     "output_type": "stream",
     "name": "stdout",
     "output_type": "stream",
     "text": [
      "+-------------+-----+\n|    continent|count|\n+-------------+-----+\n|       Europe|37088|\n|       Africa|39417|\n|         null| 9956|\n|North America|24931|\n|South America| 9517|\n|      Oceania| 9217|\n|         Asia|36200|\n+-------------+-----+\n\n"
     ]
    }
   ],
   "source": [
    "#Now let us see the count of each continents - how many values are there for each of them.\n",
    "\n",
    "df.groupBy(\"continent\").count().show()"
   ]
  },
  {
   "cell_type": "code",
   "execution_count": 0,
   "metadata": {
    "application/vnd.databricks.v1+cell": {
     "cellMetadata": {
      "byteLimit": 2048000,
      "rowLimit": 10000
     },
     "inputWidgets": {},
     "nuid": "8332546d-b409-4ac6-90a0-17a4ad6d9b5f",
     "showTitle": false,
     "tableResultSettingsMap": {},
     "title": ""
    }
   },
   "outputs": [
    {
     "output_type": "stream",
     "name": "stdout",
     "output_type": "stream",
     "text": [
      "+-------------+--------------+\n|    continent|countOfRecords|\n+-------------+--------------+\n|         null|          9956|\n|       Africa|         39417|\n|         Asia|         36200|\n|       Europe|         37088|\n|North America|         24931|\n|      Oceania|          9217|\n|South America|          9517|\n+-------------+--------------+\n\n"
     ]
    }
   ],
   "source": [
    "#Importing the important libraries\n",
    "from pyspark.sql.functions import col\n",
    "\n",
    "\n",
    "#Let us try to change the name of column to something appropriate and keep them sorted by contient name\n",
    "df.groupBy(\"continent\")\\\n",
    "    .count()\\\n",
    "    .withColumnRenamed(\"count\",\"countOfRecords\")\\\n",
    "    .orderBy(col(\"continent\"))\\\n",
    "    .show()"
   ]
  },
  {
   "cell_type": "markdown",
   "metadata": {
    "application/vnd.databricks.v1+cell": {
     "cellMetadata": {},
     "inputWidgets": {},
     "nuid": "a7da36e4-79db-4e38-9a10-b5c5120c4421",
     "showTitle": false,
     "tableResultSettingsMap": {},
     "title": ""
    }
   },
   "source": [
    "This shows that most of the records belong to Africa, Asia and Europe with count of more than 30000+"
   ]
  },
  {
   "cell_type": "code",
   "execution_count": 0,
   "metadata": {
    "application/vnd.databricks.v1+cell": {
     "cellMetadata": {
      "byteLimit": 2048000,
      "rowLimit": 10000
     },
     "inputWidgets": {},
     "nuid": "e36eaa75-cf90-4f05-90f9-4e98c2055d2d",
     "showTitle": false,
     "tableResultSettingsMap": {},
     "title": ""
    }
   },
   "outputs": [
    {
     "output_type": "stream",
     "name": "stdout",
     "output_type": "stream",
     "text": [
      "There are 13 unique values associated with Null values of continent.\n+-------------------+--------------+\n|           location|countOfRecords|\n+-------------------+--------------+\n|               Asia|           774|\n|        High income|           774|\n|Lower middle income|           774|\n|      North America|           774|\n|              World|           774|\n|Upper middle income|           774|\n|             Europe|           773|\n|     European Union|           773|\n|            Oceania|           771|\n|      International|           758|\n|             Africa|           752|\n|      South America|           743|\n|         Low income|           742|\n+-------------------+--------------+\n\n"
     ]
    }
   ],
   "source": [
    "#Let us check what are the values of Countries associated with continents where we have null values\n",
    "\n",
    "count_of_values = df.filter(col(\"continent\").isNull())\\\n",
    "    .select(\"location\").distinct().count()\n",
    "\n",
    "print(f\"There are {count_of_values} unique values associated with Null values of continent.\")\n",
    "\n",
    "df.filter(col(\"continent\").isNull())\\\n",
    "    .groupBy(\"location\").count().withColumnRenamed(\"count\",\"countOfRecords\")\\\n",
    "        .orderBy(\"countOfRecords\",ascending=False).show()"
   ]
  },
  {
   "cell_type": "markdown",
   "metadata": {
    "application/vnd.databricks.v1+cell": {
     "cellMetadata": {},
     "inputWidgets": {},
     "nuid": "880cbd81-c951-46a7-a953-4fdb5fabc437",
     "showTitle": false,
     "tableResultSettingsMap": {},
     "title": ""
    }
   },
   "source": [
    "Here we can see that count for all the 13 unique values is almost similar and they stand close to 740. "
   ]
  },
  {
   "cell_type": "code",
   "execution_count": 0,
   "metadata": {
    "application/vnd.databricks.v1+cell": {
     "cellMetadata": {
      "byteLimit": 2048000,
      "rowLimit": 10000
     },
     "inputWidgets": {},
     "nuid": "32ba5924-5cf8-4b89-b461-d756b118ebcb",
     "showTitle": false,
     "tableResultSettingsMap": {},
     "title": ""
    }
   },
   "outputs": [],
   "source": [
    "## We can remove the rows where continent is having NULL values because the value of location does not seem to be having any sense\n",
    "# for example we have values like High Income, Upper middle income etc.\n",
    "\n",
    "df_filtered_1 = df.filter(col(\"continent\").isNotNull())\n",
    "\n"
   ]
  },
  {
   "cell_type": "code",
   "execution_count": 0,
   "metadata": {
    "application/vnd.databricks.v1+cell": {
     "cellMetadata": {
      "byteLimit": 2048000,
      "rowLimit": 10000
     },
     "inputWidgets": {},
     "nuid": "b7ca5dcb-4b6b-4898-a4ed-b49a355387e2",
     "showTitle": false,
     "tableResultSettingsMap": {},
     "title": ""
    }
   },
   "outputs": [
    {
     "output_type": "display_data",
     "data": {
      "text/html": [
       "<style scoped>\n",
       "  .table-result-container {\n",
       "    max-height: 300px;\n",
       "    overflow: auto;\n",
       "  }\n",
       "  table, th, td {\n",
       "    border: 1px solid black;\n",
       "    border-collapse: collapse;\n",
       "  }\n",
       "  th, td {\n",
       "    padding: 5px;\n",
       "  }\n",
       "  th {\n",
       "    text-align: left;\n",
       "  }\n",
       "</style><div class='table-result-container'><table class='table-result'><thead style='background-color: white'><tr><th>iso_code</th><th>continent</th><th>location</th><th>date</th><th>total_cases</th><th>new_cases</th><th>new_cases_smoothed</th><th>total_deaths</th><th>new_deaths</th><th>new_deaths_smoothed</th><th>total_cases_per_million</th><th>new_cases_per_million</th><th>new_cases_smoothed_per_million</th><th>total_deaths_per_million</th><th>new_deaths_per_million</th><th>new_deaths_smoothed_per_million</th><th>reproduction_rate</th><th>icu_patients</th><th>icu_patients_per_million</th><th>hosp_patients</th><th>hosp_patients_per_million</th><th>weekly_icu_admissions</th><th>weekly_icu_admissions_per_million</th><th>weekly_hosp_admissions</th><th>weekly_hosp_admissions_per_million</th><th>new_tests</th><th>total_tests</th><th>total_tests_per_thousand</th><th>new_tests_per_thousand</th><th>new_tests_smoothed</th><th>new_tests_smoothed_per_thousand</th><th>positive_rate</th><th>tests_per_case</th><th>tests_units</th><th>total_vaccinations</th><th>people_vaccinated</th><th>people_fully_vaccinated</th><th>total_boosters</th><th>new_vaccinations</th><th>new_vaccinations_smoothed</th><th>total_vaccinations_per_hundred</th><th>people_vaccinated_per_hundred</th><th>people_fully_vaccinated_per_hundred</th><th>total_boosters_per_hundred</th><th>new_vaccinations_smoothed_per_million</th><th>new_people_vaccinated_smoothed</th><th>new_people_vaccinated_smoothed_per_hundred</th><th>stringency_index</th><th>population</th><th>population_density</th><th>median_age</th><th>aged_65_older</th><th>aged_70_older</th><th>gdp_per_capita</th><th>extreme_poverty</th><th>cardiovasc_death_rate</th><th>diabetes_prevalence</th><th>female_smokers</th><th>male_smokers</th><th>handwashing_facilities</th><th>hospital_beds_per_thousand</th><th>life_expectancy</th><th>human_development_index</th><th>excess_mortality_cumulative_absolute</th><th>excess_mortality_cumulative</th><th>excess_mortality</th><th>excess_mortality_cumulative_per_million</th></tr></thead><tbody><tr><td>AFG</td><td>Asia</td><td>Afghanistan</td><td>2020-02-24</td><td>5.0</td><td>5.0</td><td>null</td><td>null</td><td>null</td><td>null</td><td>0.126</td><td>0.126</td><td>null</td><td>null</td><td>null</td><td>null</td><td>null</td><td>null</td><td>null</td><td>null</td><td>null</td><td>null</td><td>null</td><td>null</td><td>null</td><td>null</td><td>null</td><td>null</td><td>null</td><td>null</td><td>null</td><td>null</td><td>null</td><td>null</td><td>null</td><td>null</td><td>null</td><td>null</td><td>null</td><td>null</td><td>null</td><td>null</td><td>null</td><td>null</td><td>null</td><td>null</td><td>null</td><td>8.33</td><td>3.9835428E7</td><td>54.422</td><td>18.6</td><td>2.581</td><td>1.337</td><td>1803.987</td><td>null</td><td>597.029</td><td>9.59</td><td>null</td><td>null</td><td>37.746</td><td>0.5</td><td>64.83</td><td>0.511</td><td>null</td><td>null</td><td>null</td><td>null</td></tr><tr><td>AFG</td><td>Asia</td><td>Afghanistan</td><td>2020-02-25</td><td>5.0</td><td>0.0</td><td>null</td><td>null</td><td>null</td><td>null</td><td>0.126</td><td>0.0</td><td>null</td><td>null</td><td>null</td><td>null</td><td>null</td><td>null</td><td>null</td><td>null</td><td>null</td><td>null</td><td>null</td><td>null</td><td>null</td><td>null</td><td>null</td><td>null</td><td>null</td><td>null</td><td>null</td><td>null</td><td>null</td><td>null</td><td>null</td><td>null</td><td>null</td><td>null</td><td>null</td><td>null</td><td>null</td><td>null</td><td>null</td><td>null</td><td>null</td><td>null</td><td>null</td><td>8.33</td><td>3.9835428E7</td><td>54.422</td><td>18.6</td><td>2.581</td><td>1.337</td><td>1803.987</td><td>null</td><td>597.029</td><td>9.59</td><td>null</td><td>null</td><td>37.746</td><td>0.5</td><td>64.83</td><td>0.511</td><td>null</td><td>null</td><td>null</td><td>null</td></tr><tr><td>AFG</td><td>Asia</td><td>Afghanistan</td><td>2020-02-26</td><td>5.0</td><td>0.0</td><td>null</td><td>null</td><td>null</td><td>null</td><td>0.126</td><td>0.0</td><td>null</td><td>null</td><td>null</td><td>null</td><td>null</td><td>null</td><td>null</td><td>null</td><td>null</td><td>null</td><td>null</td><td>null</td><td>null</td><td>null</td><td>null</td><td>null</td><td>null</td><td>null</td><td>null</td><td>null</td><td>null</td><td>null</td><td>null</td><td>null</td><td>null</td><td>null</td><td>null</td><td>null</td><td>null</td><td>null</td><td>null</td><td>null</td><td>null</td><td>null</td><td>null</td><td>8.33</td><td>3.9835428E7</td><td>54.422</td><td>18.6</td><td>2.581</td><td>1.337</td><td>1803.987</td><td>null</td><td>597.029</td><td>9.59</td><td>null</td><td>null</td><td>37.746</td><td>0.5</td><td>64.83</td><td>0.511</td><td>null</td><td>null</td><td>null</td><td>null</td></tr><tr><td>AFG</td><td>Asia</td><td>Afghanistan</td><td>2020-02-27</td><td>5.0</td><td>0.0</td><td>null</td><td>null</td><td>null</td><td>null</td><td>0.126</td><td>0.0</td><td>null</td><td>null</td><td>null</td><td>null</td><td>null</td><td>null</td><td>null</td><td>null</td><td>null</td><td>null</td><td>null</td><td>null</td><td>null</td><td>null</td><td>null</td><td>null</td><td>null</td><td>null</td><td>null</td><td>null</td><td>null</td><td>null</td><td>null</td><td>null</td><td>null</td><td>null</td><td>null</td><td>null</td><td>null</td><td>null</td><td>null</td><td>null</td><td>null</td><td>null</td><td>null</td><td>8.33</td><td>3.9835428E7</td><td>54.422</td><td>18.6</td><td>2.581</td><td>1.337</td><td>1803.987</td><td>null</td><td>597.029</td><td>9.59</td><td>null</td><td>null</td><td>37.746</td><td>0.5</td><td>64.83</td><td>0.511</td><td>null</td><td>null</td><td>null</td><td>null</td></tr><tr><td>AFG</td><td>Asia</td><td>Afghanistan</td><td>2020-02-28</td><td>5.0</td><td>0.0</td><td>null</td><td>null</td><td>null</td><td>null</td><td>0.126</td><td>0.0</td><td>null</td><td>null</td><td>null</td><td>null</td><td>null</td><td>null</td><td>null</td><td>null</td><td>null</td><td>null</td><td>null</td><td>null</td><td>null</td><td>null</td><td>null</td><td>null</td><td>null</td><td>null</td><td>null</td><td>null</td><td>null</td><td>null</td><td>null</td><td>null</td><td>null</td><td>null</td><td>null</td><td>null</td><td>null</td><td>null</td><td>null</td><td>null</td><td>null</td><td>null</td><td>null</td><td>8.33</td><td>3.9835428E7</td><td>54.422</td><td>18.6</td><td>2.581</td><td>1.337</td><td>1803.987</td><td>null</td><td>597.029</td><td>9.59</td><td>null</td><td>null</td><td>37.746</td><td>0.5</td><td>64.83</td><td>0.511</td><td>null</td><td>null</td><td>null</td><td>null</td></tr></tbody></table></div>"
      ]
     },
     "metadata": {
      "application/vnd.databricks.v1+output": {
       "addedWidgets": {},
       "aggData": [],
       "aggError": "",
       "aggOverflow": false,
       "aggSchema": [],
       "aggSeriesLimitReached": false,
       "aggType": "",
       "arguments": {},
       "columnCustomDisplayInfos": {},
       "data": [
        [
         "AFG",
         "Asia",
         "Afghanistan",
         "2020-02-24",
         5.0,
         5.0,
         null,
         null,
         null,
         null,
         0.126,
         0.126,
         null,
         null,
         null,
         null,
         null,
         null,
         null,
         null,
         null,
         null,
         null,
         null,
         null,
         null,
         null,
         null,
         null,
         null,
         null,
         null,
         null,
         null,
         null,
         null,
         null,
         null,
         null,
         null,
         null,
         null,
         null,
         null,
         null,
         null,
         null,
         8.33,
         3.9835428E7,
         54.422,
         18.6,
         2.581,
         1.337,
         1803.987,
         null,
         597.029,
         9.59,
         null,
         null,
         37.746,
         0.5,
         64.83,
         0.511,
         null,
         null,
         null,
         null
        ],
        [
         "AFG",
         "Asia",
         "Afghanistan",
         "2020-02-25",
         5.0,
         0.0,
         null,
         null,
         null,
         null,
         0.126,
         0.0,
         null,
         null,
         null,
         null,
         null,
         null,
         null,
         null,
         null,
         null,
         null,
         null,
         null,
         null,
         null,
         null,
         null,
         null,
         null,
         null,
         null,
         null,
         null,
         null,
         null,
         null,
         null,
         null,
         null,
         null,
         null,
         null,
         null,
         null,
         null,
         8.33,
         3.9835428E7,
         54.422,
         18.6,
         2.581,
         1.337,
         1803.987,
         null,
         597.029,
         9.59,
         null,
         null,
         37.746,
         0.5,
         64.83,
         0.511,
         null,
         null,
         null,
         null
        ],
        [
         "AFG",
         "Asia",
         "Afghanistan",
         "2020-02-26",
         5.0,
         0.0,
         null,
         null,
         null,
         null,
         0.126,
         0.0,
         null,
         null,
         null,
         null,
         null,
         null,
         null,
         null,
         null,
         null,
         null,
         null,
         null,
         null,
         null,
         null,
         null,
         null,
         null,
         null,
         null,
         null,
         null,
         null,
         null,
         null,
         null,
         null,
         null,
         null,
         null,
         null,
         null,
         null,
         null,
         8.33,
         3.9835428E7,
         54.422,
         18.6,
         2.581,
         1.337,
         1803.987,
         null,
         597.029,
         9.59,
         null,
         null,
         37.746,
         0.5,
         64.83,
         0.511,
         null,
         null,
         null,
         null
        ],
        [
         "AFG",
         "Asia",
         "Afghanistan",
         "2020-02-27",
         5.0,
         0.0,
         null,
         null,
         null,
         null,
         0.126,
         0.0,
         null,
         null,
         null,
         null,
         null,
         null,
         null,
         null,
         null,
         null,
         null,
         null,
         null,
         null,
         null,
         null,
         null,
         null,
         null,
         null,
         null,
         null,
         null,
         null,
         null,
         null,
         null,
         null,
         null,
         null,
         null,
         null,
         null,
         null,
         null,
         8.33,
         3.9835428E7,
         54.422,
         18.6,
         2.581,
         1.337,
         1803.987,
         null,
         597.029,
         9.59,
         null,
         null,
         37.746,
         0.5,
         64.83,
         0.511,
         null,
         null,
         null,
         null
        ],
        [
         "AFG",
         "Asia",
         "Afghanistan",
         "2020-02-28",
         5.0,
         0.0,
         null,
         null,
         null,
         null,
         0.126,
         0.0,
         null,
         null,
         null,
         null,
         null,
         null,
         null,
         null,
         null,
         null,
         null,
         null,
         null,
         null,
         null,
         null,
         null,
         null,
         null,
         null,
         null,
         null,
         null,
         null,
         null,
         null,
         null,
         null,
         null,
         null,
         null,
         null,
         null,
         null,
         null,
         8.33,
         3.9835428E7,
         54.422,
         18.6,
         2.581,
         1.337,
         1803.987,
         null,
         597.029,
         9.59,
         null,
         null,
         37.746,
         0.5,
         64.83,
         0.511,
         null,
         null,
         null,
         null
        ]
       ],
       "datasetInfos": [],
       "dbfsResultPath": null,
       "isJsonSchema": true,
       "metadata": {},
       "overflow": false,
       "plotOptions": {
        "customPlotOptions": {},
        "displayType": "table",
        "pivotAggregation": null,
        "pivotColumns": null,
        "xColumns": null,
        "yColumns": null
       },
       "removedWidgets": [],
       "schema": [
        {
         "metadata": "{}",
         "name": "iso_code",
         "type": "\"string\""
        },
        {
         "metadata": "{}",
         "name": "continent",
         "type": "\"string\""
        },
        {
         "metadata": "{}",
         "name": "location",
         "type": "\"string\""
        },
        {
         "metadata": "{\"__detected_date_formats\":\"yyyy-M-d\"}",
         "name": "date",
         "type": "\"date\""
        },
        {
         "metadata": "{}",
         "name": "total_cases",
         "type": "\"double\""
        },
        {
         "metadata": "{}",
         "name": "new_cases",
         "type": "\"double\""
        },
        {
         "metadata": "{}",
         "name": "new_cases_smoothed",
         "type": "\"double\""
        },
        {
         "metadata": "{}",
         "name": "total_deaths",
         "type": "\"double\""
        },
        {
         "metadata": "{}",
         "name": "new_deaths",
         "type": "\"double\""
        },
        {
         "metadata": "{}",
         "name": "new_deaths_smoothed",
         "type": "\"double\""
        },
        {
         "metadata": "{}",
         "name": "total_cases_per_million",
         "type": "\"double\""
        },
        {
         "metadata": "{}",
         "name": "new_cases_per_million",
         "type": "\"double\""
        },
        {
         "metadata": "{}",
         "name": "new_cases_smoothed_per_million",
         "type": "\"double\""
        },
        {
         "metadata": "{}",
         "name": "total_deaths_per_million",
         "type": "\"double\""
        },
        {
         "metadata": "{}",
         "name": "new_deaths_per_million",
         "type": "\"double\""
        },
        {
         "metadata": "{}",
         "name": "new_deaths_smoothed_per_million",
         "type": "\"double\""
        },
        {
         "metadata": "{}",
         "name": "reproduction_rate",
         "type": "\"double\""
        },
        {
         "metadata": "{}",
         "name": "icu_patients",
         "type": "\"double\""
        },
        {
         "metadata": "{}",
         "name": "icu_patients_per_million",
         "type": "\"double\""
        },
        {
         "metadata": "{}",
         "name": "hosp_patients",
         "type": "\"double\""
        },
        {
         "metadata": "{}",
         "name": "hosp_patients_per_million",
         "type": "\"double\""
        },
        {
         "metadata": "{}",
         "name": "weekly_icu_admissions",
         "type": "\"double\""
        },
        {
         "metadata": "{}",
         "name": "weekly_icu_admissions_per_million",
         "type": "\"double\""
        },
        {
         "metadata": "{}",
         "name": "weekly_hosp_admissions",
         "type": "\"double\""
        },
        {
         "metadata": "{}",
         "name": "weekly_hosp_admissions_per_million",
         "type": "\"double\""
        },
        {
         "metadata": "{}",
         "name": "new_tests",
         "type": "\"double\""
        },
        {
         "metadata": "{}",
         "name": "total_tests",
         "type": "\"double\""
        },
        {
         "metadata": "{}",
         "name": "total_tests_per_thousand",
         "type": "\"double\""
        },
        {
         "metadata": "{}",
         "name": "new_tests_per_thousand",
         "type": "\"double\""
        },
        {
         "metadata": "{}",
         "name": "new_tests_smoothed",
         "type": "\"double\""
        },
        {
         "metadata": "{}",
         "name": "new_tests_smoothed_per_thousand",
         "type": "\"double\""
        },
        {
         "metadata": "{}",
         "name": "positive_rate",
         "type": "\"double\""
        },
        {
         "metadata": "{}",
         "name": "tests_per_case",
         "type": "\"double\""
        },
        {
         "metadata": "{}",
         "name": "tests_units",
         "type": "\"string\""
        },
        {
         "metadata": "{}",
         "name": "total_vaccinations",
         "type": "\"double\""
        },
        {
         "metadata": "{}",
         "name": "people_vaccinated",
         "type": "\"double\""
        },
        {
         "metadata": "{}",
         "name": "people_fully_vaccinated",
         "type": "\"double\""
        },
        {
         "metadata": "{}",
         "name": "total_boosters",
         "type": "\"double\""
        },
        {
         "metadata": "{}",
         "name": "new_vaccinations",
         "type": "\"double\""
        },
        {
         "metadata": "{}",
         "name": "new_vaccinations_smoothed",
         "type": "\"double\""
        },
        {
         "metadata": "{}",
         "name": "total_vaccinations_per_hundred",
         "type": "\"double\""
        },
        {
         "metadata": "{}",
         "name": "people_vaccinated_per_hundred",
         "type": "\"double\""
        },
        {
         "metadata": "{}",
         "name": "people_fully_vaccinated_per_hundred",
         "type": "\"double\""
        },
        {
         "metadata": "{}",
         "name": "total_boosters_per_hundred",
         "type": "\"double\""
        },
        {
         "metadata": "{}",
         "name": "new_vaccinations_smoothed_per_million",
         "type": "\"double\""
        },
        {
         "metadata": "{}",
         "name": "new_people_vaccinated_smoothed",
         "type": "\"double\""
        },
        {
         "metadata": "{}",
         "name": "new_people_vaccinated_smoothed_per_hundred",
         "type": "\"double\""
        },
        {
         "metadata": "{}",
         "name": "stringency_index",
         "type": "\"double\""
        },
        {
         "metadata": "{}",
         "name": "population",
         "type": "\"double\""
        },
        {
         "metadata": "{}",
         "name": "population_density",
         "type": "\"double\""
        },
        {
         "metadata": "{}",
         "name": "median_age",
         "type": "\"double\""
        },
        {
         "metadata": "{}",
         "name": "aged_65_older",
         "type": "\"double\""
        },
        {
         "metadata": "{}",
         "name": "aged_70_older",
         "type": "\"double\""
        },
        {
         "metadata": "{}",
         "name": "gdp_per_capita",
         "type": "\"double\""
        },
        {
         "metadata": "{}",
         "name": "extreme_poverty",
         "type": "\"double\""
        },
        {
         "metadata": "{}",
         "name": "cardiovasc_death_rate",
         "type": "\"double\""
        },
        {
         "metadata": "{}",
         "name": "diabetes_prevalence",
         "type": "\"double\""
        },
        {
         "metadata": "{}",
         "name": "female_smokers",
         "type": "\"double\""
        },
        {
         "metadata": "{}",
         "name": "male_smokers",
         "type": "\"double\""
        },
        {
         "metadata": "{}",
         "name": "handwashing_facilities",
         "type": "\"double\""
        },
        {
         "metadata": "{}",
         "name": "hospital_beds_per_thousand",
         "type": "\"double\""
        },
        {
         "metadata": "{}",
         "name": "life_expectancy",
         "type": "\"double\""
        },
        {
         "metadata": "{}",
         "name": "human_development_index",
         "type": "\"double\""
        },
        {
         "metadata": "{}",
         "name": "excess_mortality_cumulative_absolute",
         "type": "\"double\""
        },
        {
         "metadata": "{}",
         "name": "excess_mortality_cumulative",
         "type": "\"double\""
        },
        {
         "metadata": "{}",
         "name": "excess_mortality",
         "type": "\"double\""
        },
        {
         "metadata": "{}",
         "name": "excess_mortality_cumulative_per_million",
         "type": "\"double\""
        }
       ],
       "type": "table"
      }
     },
     "output_type": "display_data"
    }
   ],
   "source": [
    "display(df_filtered_1.limit(5))"
   ]
  },
  {
   "cell_type": "code",
   "execution_count": 0,
   "metadata": {
    "application/vnd.databricks.v1+cell": {
     "cellMetadata": {
      "byteLimit": 2048000,
      "rowLimit": 10000
     },
     "inputWidgets": {},
     "nuid": "152d6ce0-cf08-4c8e-a3cc-9db3ec10eb35",
     "showTitle": false,
     "tableResultSettingsMap": {},
     "title": ""
    }
   },
   "outputs": [
    {
     "output_type": "display_data",
     "data": {
      "text/html": [
       "<style scoped>\n",
       "  .table-result-container {\n",
       "    max-height: 300px;\n",
       "    overflow: auto;\n",
       "  }\n",
       "  table, th, td {\n",
       "    border: 1px solid black;\n",
       "    border-collapse: collapse;\n",
       "  }\n",
       "  th, td {\n",
       "    padding: 5px;\n",
       "  }\n",
       "  th {\n",
       "    text-align: left;\n",
       "  }\n",
       "</style><div class='table-result-container'><table class='table-result'><thead style='background-color: white'><tr><th>iso_code</th><th>continent</th><th>location</th><th>date</th><th>total_cases</th><th>new_cases</th><th>new_cases_smoothed</th><th>total_deaths</th><th>new_deaths</th><th>new_deaths_smoothed</th><th>total_cases_per_million</th><th>new_cases_per_million</th><th>new_cases_smoothed_per_million</th><th>total_deaths_per_million</th><th>new_deaths_per_million</th><th>new_deaths_smoothed_per_million</th><th>reproduction_rate</th><th>icu_patients</th><th>icu_patients_per_million</th><th>hosp_patients</th><th>hosp_patients_per_million</th><th>weekly_icu_admissions</th><th>weekly_icu_admissions_per_million</th><th>weekly_hosp_admissions</th><th>weekly_hosp_admissions_per_million</th><th>new_tests</th><th>total_tests</th><th>total_tests_per_thousand</th><th>new_tests_per_thousand</th><th>new_tests_smoothed</th><th>new_tests_smoothed_per_thousand</th><th>positive_rate</th><th>tests_per_case</th><th>tests_units</th><th>total_vaccinations</th><th>people_vaccinated</th><th>people_fully_vaccinated</th><th>total_boosters</th><th>new_vaccinations</th><th>new_vaccinations_smoothed</th><th>total_vaccinations_per_hundred</th><th>people_vaccinated_per_hundred</th><th>people_fully_vaccinated_per_hundred</th><th>total_boosters_per_hundred</th><th>new_vaccinations_smoothed_per_million</th><th>new_people_vaccinated_smoothed</th><th>new_people_vaccinated_smoothed_per_hundred</th><th>stringency_index</th><th>population</th><th>population_density</th><th>median_age</th><th>aged_65_older</th><th>aged_70_older</th><th>gdp_per_capita</th><th>extreme_poverty</th><th>cardiovasc_death_rate</th><th>diabetes_prevalence</th><th>female_smokers</th><th>male_smokers</th><th>handwashing_facilities</th><th>hospital_beds_per_thousand</th><th>life_expectancy</th><th>human_development_index</th><th>excess_mortality_cumulative_absolute</th><th>excess_mortality_cumulative</th><th>excess_mortality</th><th>excess_mortality_cumulative_per_million</th></tr></thead><tbody><tr><td>IND</td><td>Asia</td><td>India</td><td>2020-01-30</td><td>1.0</td><td>1.0</td><td>null</td><td>null</td><td>null</td><td>null</td><td>0.001</td><td>0.001</td><td>null</td><td>null</td><td>null</td><td>null</td><td>null</td><td>null</td><td>null</td><td>null</td><td>null</td><td>null</td><td>null</td><td>null</td><td>null</td><td>null</td><td>null</td><td>null</td><td>null</td><td>null</td><td>null</td><td>null</td><td>null</td><td>null</td><td>null</td><td>null</td><td>null</td><td>null</td><td>null</td><td>null</td><td>null</td><td>null</td><td>null</td><td>null</td><td>null</td><td>null</td><td>null</td><td>10.19</td><td>1.393409033E9</td><td>450.419</td><td>28.2</td><td>5.989</td><td>3.414</td><td>6426.674</td><td>21.2</td><td>282.28</td><td>10.39</td><td>1.9</td><td>20.6</td><td>59.55</td><td>0.53</td><td>69.66</td><td>0.645</td><td>null</td><td>null</td><td>null</td><td>null</td></tr><tr><td>IND</td><td>Asia</td><td>India</td><td>2020-01-31</td><td>1.0</td><td>0.0</td><td>null</td><td>null</td><td>null</td><td>null</td><td>0.001</td><td>0.0</td><td>null</td><td>null</td><td>null</td><td>null</td><td>null</td><td>null</td><td>null</td><td>null</td><td>null</td><td>null</td><td>null</td><td>null</td><td>null</td><td>null</td><td>null</td><td>null</td><td>null</td><td>null</td><td>null</td><td>null</td><td>null</td><td>null</td><td>null</td><td>null</td><td>null</td><td>null</td><td>null</td><td>null</td><td>null</td><td>null</td><td>null</td><td>null</td><td>null</td><td>null</td><td>null</td><td>10.19</td><td>1.393409033E9</td><td>450.419</td><td>28.2</td><td>5.989</td><td>3.414</td><td>6426.674</td><td>21.2</td><td>282.28</td><td>10.39</td><td>1.9</td><td>20.6</td><td>59.55</td><td>0.53</td><td>69.66</td><td>0.645</td><td>null</td><td>null</td><td>null</td><td>null</td></tr><tr><td>IND</td><td>Asia</td><td>India</td><td>2020-02-01</td><td>1.0</td><td>0.0</td><td>null</td><td>null</td><td>null</td><td>null</td><td>0.001</td><td>0.0</td><td>null</td><td>null</td><td>null</td><td>null</td><td>null</td><td>null</td><td>null</td><td>null</td><td>null</td><td>null</td><td>null</td><td>null</td><td>null</td><td>null</td><td>null</td><td>null</td><td>null</td><td>null</td><td>null</td><td>null</td><td>null</td><td>null</td><td>null</td><td>null</td><td>null</td><td>null</td><td>null</td><td>null</td><td>null</td><td>null</td><td>null</td><td>null</td><td>null</td><td>null</td><td>null</td><td>10.19</td><td>1.393409033E9</td><td>450.419</td><td>28.2</td><td>5.989</td><td>3.414</td><td>6426.674</td><td>21.2</td><td>282.28</td><td>10.39</td><td>1.9</td><td>20.6</td><td>59.55</td><td>0.53</td><td>69.66</td><td>0.645</td><td>null</td><td>null</td><td>null</td><td>null</td></tr><tr><td>IND</td><td>Asia</td><td>India</td><td>2020-02-02</td><td>2.0</td><td>1.0</td><td>null</td><td>null</td><td>null</td><td>null</td><td>0.001</td><td>0.001</td><td>null</td><td>null</td><td>null</td><td>null</td><td>null</td><td>null</td><td>null</td><td>null</td><td>null</td><td>null</td><td>null</td><td>null</td><td>null</td><td>null</td><td>null</td><td>null</td><td>null</td><td>null</td><td>null</td><td>null</td><td>null</td><td>null</td><td>null</td><td>null</td><td>null</td><td>null</td><td>null</td><td>null</td><td>null</td><td>null</td><td>null</td><td>null</td><td>null</td><td>null</td><td>null</td><td>10.19</td><td>1.393409033E9</td><td>450.419</td><td>28.2</td><td>5.989</td><td>3.414</td><td>6426.674</td><td>21.2</td><td>282.28</td><td>10.39</td><td>1.9</td><td>20.6</td><td>59.55</td><td>0.53</td><td>69.66</td><td>0.645</td><td>null</td><td>null</td><td>null</td><td>null</td></tr><tr><td>IND</td><td>Asia</td><td>India</td><td>2020-02-03</td><td>3.0</td><td>1.0</td><td>null</td><td>null</td><td>null</td><td>null</td><td>0.002</td><td>0.001</td><td>null</td><td>null</td><td>null</td><td>null</td><td>null</td><td>null</td><td>null</td><td>null</td><td>null</td><td>null</td><td>null</td><td>null</td><td>null</td><td>null</td><td>null</td><td>null</td><td>null</td><td>null</td><td>null</td><td>null</td><td>null</td><td>null</td><td>null</td><td>null</td><td>null</td><td>null</td><td>null</td><td>null</td><td>null</td><td>null</td><td>null</td><td>null</td><td>null</td><td>null</td><td>null</td><td>10.19</td><td>1.393409033E9</td><td>450.419</td><td>28.2</td><td>5.989</td><td>3.414</td><td>6426.674</td><td>21.2</td><td>282.28</td><td>10.39</td><td>1.9</td><td>20.6</td><td>59.55</td><td>0.53</td><td>69.66</td><td>0.645</td><td>null</td><td>null</td><td>null</td><td>null</td></tr></tbody></table></div>"
      ]
     },
     "metadata": {
      "application/vnd.databricks.v1+output": {
       "addedWidgets": {},
       "aggData": [],
       "aggError": "",
       "aggOverflow": false,
       "aggSchema": [],
       "aggSeriesLimitReached": false,
       "aggType": "",
       "arguments": {},
       "columnCustomDisplayInfos": {},
       "data": [
        [
         "IND",
         "Asia",
         "India",
         "2020-01-30",
         1.0,
         1.0,
         null,
         null,
         null,
         null,
         0.001,
         0.001,
         null,
         null,
         null,
         null,
         null,
         null,
         null,
         null,
         null,
         null,
         null,
         null,
         null,
         null,
         null,
         null,
         null,
         null,
         null,
         null,
         null,
         null,
         null,
         null,
         null,
         null,
         null,
         null,
         null,
         null,
         null,
         null,
         null,
         null,
         null,
         10.19,
         1.393409033E9,
         450.419,
         28.2,
         5.989,
         3.414,
         6426.674,
         21.2,
         282.28,
         10.39,
         1.9,
         20.6,
         59.55,
         0.53,
         69.66,
         0.645,
         null,
         null,
         null,
         null
        ],
        [
         "IND",
         "Asia",
         "India",
         "2020-01-31",
         1.0,
         0.0,
         null,
         null,
         null,
         null,
         0.001,
         0.0,
         null,
         null,
         null,
         null,
         null,
         null,
         null,
         null,
         null,
         null,
         null,
         null,
         null,
         null,
         null,
         null,
         null,
         null,
         null,
         null,
         null,
         null,
         null,
         null,
         null,
         null,
         null,
         null,
         null,
         null,
         null,
         null,
         null,
         null,
         null,
         10.19,
         1.393409033E9,
         450.419,
         28.2,
         5.989,
         3.414,
         6426.674,
         21.2,
         282.28,
         10.39,
         1.9,
         20.6,
         59.55,
         0.53,
         69.66,
         0.645,
         null,
         null,
         null,
         null
        ],
        [
         "IND",
         "Asia",
         "India",
         "2020-02-01",
         1.0,
         0.0,
         null,
         null,
         null,
         null,
         0.001,
         0.0,
         null,
         null,
         null,
         null,
         null,
         null,
         null,
         null,
         null,
         null,
         null,
         null,
         null,
         null,
         null,
         null,
         null,
         null,
         null,
         null,
         null,
         null,
         null,
         null,
         null,
         null,
         null,
         null,
         null,
         null,
         null,
         null,
         null,
         null,
         null,
         10.19,
         1.393409033E9,
         450.419,
         28.2,
         5.989,
         3.414,
         6426.674,
         21.2,
         282.28,
         10.39,
         1.9,
         20.6,
         59.55,
         0.53,
         69.66,
         0.645,
         null,
         null,
         null,
         null
        ],
        [
         "IND",
         "Asia",
         "India",
         "2020-02-02",
         2.0,
         1.0,
         null,
         null,
         null,
         null,
         0.001,
         0.001,
         null,
         null,
         null,
         null,
         null,
         null,
         null,
         null,
         null,
         null,
         null,
         null,
         null,
         null,
         null,
         null,
         null,
         null,
         null,
         null,
         null,
         null,
         null,
         null,
         null,
         null,
         null,
         null,
         null,
         null,
         null,
         null,
         null,
         null,
         null,
         10.19,
         1.393409033E9,
         450.419,
         28.2,
         5.989,
         3.414,
         6426.674,
         21.2,
         282.28,
         10.39,
         1.9,
         20.6,
         59.55,
         0.53,
         69.66,
         0.645,
         null,
         null,
         null,
         null
        ],
        [
         "IND",
         "Asia",
         "India",
         "2020-02-03",
         3.0,
         1.0,
         null,
         null,
         null,
         null,
         0.002,
         0.001,
         null,
         null,
         null,
         null,
         null,
         null,
         null,
         null,
         null,
         null,
         null,
         null,
         null,
         null,
         null,
         null,
         null,
         null,
         null,
         null,
         null,
         null,
         null,
         null,
         null,
         null,
         null,
         null,
         null,
         null,
         null,
         null,
         null,
         null,
         null,
         10.19,
         1.393409033E9,
         450.419,
         28.2,
         5.989,
         3.414,
         6426.674,
         21.2,
         282.28,
         10.39,
         1.9,
         20.6,
         59.55,
         0.53,
         69.66,
         0.645,
         null,
         null,
         null,
         null
        ]
       ],
       "datasetInfos": [],
       "dbfsResultPath": null,
       "isJsonSchema": true,
       "metadata": {},
       "overflow": false,
       "plotOptions": {
        "customPlotOptions": {},
        "displayType": "table",
        "pivotAggregation": null,
        "pivotColumns": null,
        "xColumns": null,
        "yColumns": null
       },
       "removedWidgets": [],
       "schema": [
        {
         "metadata": "{}",
         "name": "iso_code",
         "type": "\"string\""
        },
        {
         "metadata": "{}",
         "name": "continent",
         "type": "\"string\""
        },
        {
         "metadata": "{}",
         "name": "location",
         "type": "\"string\""
        },
        {
         "metadata": "{\"__detected_date_formats\":\"yyyy-M-d\"}",
         "name": "date",
         "type": "\"date\""
        },
        {
         "metadata": "{}",
         "name": "total_cases",
         "type": "\"double\""
        },
        {
         "metadata": "{}",
         "name": "new_cases",
         "type": "\"double\""
        },
        {
         "metadata": "{}",
         "name": "new_cases_smoothed",
         "type": "\"double\""
        },
        {
         "metadata": "{}",
         "name": "total_deaths",
         "type": "\"double\""
        },
        {
         "metadata": "{}",
         "name": "new_deaths",
         "type": "\"double\""
        },
        {
         "metadata": "{}",
         "name": "new_deaths_smoothed",
         "type": "\"double\""
        },
        {
         "metadata": "{}",
         "name": "total_cases_per_million",
         "type": "\"double\""
        },
        {
         "metadata": "{}",
         "name": "new_cases_per_million",
         "type": "\"double\""
        },
        {
         "metadata": "{}",
         "name": "new_cases_smoothed_per_million",
         "type": "\"double\""
        },
        {
         "metadata": "{}",
         "name": "total_deaths_per_million",
         "type": "\"double\""
        },
        {
         "metadata": "{}",
         "name": "new_deaths_per_million",
         "type": "\"double\""
        },
        {
         "metadata": "{}",
         "name": "new_deaths_smoothed_per_million",
         "type": "\"double\""
        },
        {
         "metadata": "{}",
         "name": "reproduction_rate",
         "type": "\"double\""
        },
        {
         "metadata": "{}",
         "name": "icu_patients",
         "type": "\"double\""
        },
        {
         "metadata": "{}",
         "name": "icu_patients_per_million",
         "type": "\"double\""
        },
        {
         "metadata": "{}",
         "name": "hosp_patients",
         "type": "\"double\""
        },
        {
         "metadata": "{}",
         "name": "hosp_patients_per_million",
         "type": "\"double\""
        },
        {
         "metadata": "{}",
         "name": "weekly_icu_admissions",
         "type": "\"double\""
        },
        {
         "metadata": "{}",
         "name": "weekly_icu_admissions_per_million",
         "type": "\"double\""
        },
        {
         "metadata": "{}",
         "name": "weekly_hosp_admissions",
         "type": "\"double\""
        },
        {
         "metadata": "{}",
         "name": "weekly_hosp_admissions_per_million",
         "type": "\"double\""
        },
        {
         "metadata": "{}",
         "name": "new_tests",
         "type": "\"double\""
        },
        {
         "metadata": "{}",
         "name": "total_tests",
         "type": "\"double\""
        },
        {
         "metadata": "{}",
         "name": "total_tests_per_thousand",
         "type": "\"double\""
        },
        {
         "metadata": "{}",
         "name": "new_tests_per_thousand",
         "type": "\"double\""
        },
        {
         "metadata": "{}",
         "name": "new_tests_smoothed",
         "type": "\"double\""
        },
        {
         "metadata": "{}",
         "name": "new_tests_smoothed_per_thousand",
         "type": "\"double\""
        },
        {
         "metadata": "{}",
         "name": "positive_rate",
         "type": "\"double\""
        },
        {
         "metadata": "{}",
         "name": "tests_per_case",
         "type": "\"double\""
        },
        {
         "metadata": "{}",
         "name": "tests_units",
         "type": "\"string\""
        },
        {
         "metadata": "{}",
         "name": "total_vaccinations",
         "type": "\"double\""
        },
        {
         "metadata": "{}",
         "name": "people_vaccinated",
         "type": "\"double\""
        },
        {
         "metadata": "{}",
         "name": "people_fully_vaccinated",
         "type": "\"double\""
        },
        {
         "metadata": "{}",
         "name": "total_boosters",
         "type": "\"double\""
        },
        {
         "metadata": "{}",
         "name": "new_vaccinations",
         "type": "\"double\""
        },
        {
         "metadata": "{}",
         "name": "new_vaccinations_smoothed",
         "type": "\"double\""
        },
        {
         "metadata": "{}",
         "name": "total_vaccinations_per_hundred",
         "type": "\"double\""
        },
        {
         "metadata": "{}",
         "name": "people_vaccinated_per_hundred",
         "type": "\"double\""
        },
        {
         "metadata": "{}",
         "name": "people_fully_vaccinated_per_hundred",
         "type": "\"double\""
        },
        {
         "metadata": "{}",
         "name": "total_boosters_per_hundred",
         "type": "\"double\""
        },
        {
         "metadata": "{}",
         "name": "new_vaccinations_smoothed_per_million",
         "type": "\"double\""
        },
        {
         "metadata": "{}",
         "name": "new_people_vaccinated_smoothed",
         "type": "\"double\""
        },
        {
         "metadata": "{}",
         "name": "new_people_vaccinated_smoothed_per_hundred",
         "type": "\"double\""
        },
        {
         "metadata": "{}",
         "name": "stringency_index",
         "type": "\"double\""
        },
        {
         "metadata": "{}",
         "name": "population",
         "type": "\"double\""
        },
        {
         "metadata": "{}",
         "name": "population_density",
         "type": "\"double\""
        },
        {
         "metadata": "{}",
         "name": "median_age",
         "type": "\"double\""
        },
        {
         "metadata": "{}",
         "name": "aged_65_older",
         "type": "\"double\""
        },
        {
         "metadata": "{}",
         "name": "aged_70_older",
         "type": "\"double\""
        },
        {
         "metadata": "{}",
         "name": "gdp_per_capita",
         "type": "\"double\""
        },
        {
         "metadata": "{}",
         "name": "extreme_poverty",
         "type": "\"double\""
        },
        {
         "metadata": "{}",
         "name": "cardiovasc_death_rate",
         "type": "\"double\""
        },
        {
         "metadata": "{}",
         "name": "diabetes_prevalence",
         "type": "\"double\""
        },
        {
         "metadata": "{}",
         "name": "female_smokers",
         "type": "\"double\""
        },
        {
         "metadata": "{}",
         "name": "male_smokers",
         "type": "\"double\""
        },
        {
         "metadata": "{}",
         "name": "handwashing_facilities",
         "type": "\"double\""
        },
        {
         "metadata": "{}",
         "name": "hospital_beds_per_thousand",
         "type": "\"double\""
        },
        {
         "metadata": "{}",
         "name": "life_expectancy",
         "type": "\"double\""
        },
        {
         "metadata": "{}",
         "name": "human_development_index",
         "type": "\"double\""
        },
        {
         "metadata": "{}",
         "name": "excess_mortality_cumulative_absolute",
         "type": "\"double\""
        },
        {
         "metadata": "{}",
         "name": "excess_mortality_cumulative",
         "type": "\"double\""
        },
        {
         "metadata": "{}",
         "name": "excess_mortality",
         "type": "\"double\""
        },
        {
         "metadata": "{}",
         "name": "excess_mortality_cumulative_per_million",
         "type": "\"double\""
        }
       ],
       "type": "table"
      }
     },
     "output_type": "display_data"
    }
   ],
   "source": [
    "## Let us check few rows for a country - India\n",
    "\n",
    "\n",
    "display(df_filtered_1.filter(col(\"location\")==\"India\").limit(5))"
   ]
  },
  {
   "cell_type": "code",
   "execution_count": 0,
   "metadata": {
    "application/vnd.databricks.v1+cell": {
     "cellMetadata": {
      "byteLimit": 2048000,
      "rowLimit": 10000
     },
     "inputWidgets": {},
     "nuid": "9b3413b5-b28f-4838-b209-0700de5db266",
     "showTitle": false,
     "tableResultSettingsMap": {},
     "title": ""
    }
   },
   "outputs": [
    {
     "output_type": "stream",
     "name": "stdout",
     "output_type": "stream",
     "text": [
      "Total unique values of population for India is 1\n+-------------+\n|   population|\n+-------------+\n|1.393409033E9|\n+-------------+\n\n"
     ]
    }
   ],
   "source": [
    "#let us check the count of distinct values of population for india\n",
    "\n",
    "unique_population_values = df_filtered_1.filter(col(\"location\")==\"India\")\\\n",
    "    .select(\"population\").distinct().count()\n",
    "\n",
    "print(f\"Total unique values of population for India is {unique_population_values}\")\n",
    "\n",
    "df_filtered_1.filter(col(\"location\")==\"India\")\\\n",
    "    .select(\"population\").distinct().show()"
   ]
  },
  {
   "cell_type": "code",
   "execution_count": 0,
   "metadata": {
    "application/vnd.databricks.v1+cell": {
     "cellMetadata": {
      "byteLimit": 2048000,
      "rowLimit": 10000
     },
     "inputWidgets": {},
     "nuid": "29c03940-fda8-4393-951c-570fa4b95526",
     "showTitle": false,
     "tableResultSettingsMap": {},
     "title": ""
    }
   },
   "outputs": [
    {
     "output_type": "display_data",
     "data": {
      "text/html": [
       "<div>\n",
       "<style scoped>\n",
       "    .dataframe tbody tr th:only-of-type {\n",
       "        vertical-align: middle;\n",
       "    }\n",
       "\n",
       "    .dataframe tbody tr th {\n",
       "        vertical-align: top;\n",
       "    }\n",
       "\n",
       "    .dataframe thead th {\n",
       "        text-align: right;\n",
       "    }\n",
       "</style>\n",
       "<table border=\"1\" class=\"dataframe\">\n",
       "  <thead>\n",
       "    <tr style=\"text-align: right;\">\n",
       "      <th></th>\n",
       "      <th>location</th>\n",
       "      <th>count</th>\n",
       "    </tr>\n",
       "  </thead>\n",
       "  <tbody>\n",
       "  </tbody>\n",
       "</table>\n",
       "</div>"
      ]
     },
     "metadata": {
      "application/vnd.databricks.v1+output": {
       "addedWidgets": {},
       "arguments": {},
       "data": "<div>\n<style scoped>\n    .dataframe tbody tr th:only-of-type {\n        vertical-align: middle;\n    }\n\n    .dataframe tbody tr th {\n        vertical-align: top;\n    }\n\n    .dataframe thead th {\n        text-align: right;\n    }\n</style>\n<table border=\"1\" class=\"dataframe\">\n  <thead>\n    <tr style=\"text-align: right;\">\n      <th></th>\n      <th>location</th>\n      <th>count</th>\n    </tr>\n  </thead>\n  <tbody>\n  </tbody>\n</table>\n</div>",
       "datasetInfos": [],
       "metadata": {},
       "removedWidgets": [],
       "textData": null,
       "type": "htmlSandbox"
      }
     },
     "output_type": "display_data"
    }
   ],
   "source": [
    "#Let us see for each country how many unique values of population they have\n",
    "\n",
    "population_values_df = df_filtered_1.select(\"location\",\"population\")\\\n",
    "                                                    .distinct().groupBy(\"location\").count().toPandas()\n",
    "\n",
    "\n",
    "\n",
    "# #Let us check the location where population is greater than 1\n",
    "population_values_df[population_values_df['count']>1]"
   ]
  },
  {
   "cell_type": "markdown",
   "metadata": {
    "application/vnd.databricks.v1+cell": {
     "cellMetadata": {},
     "inputWidgets": {},
     "nuid": "3fe1b4bd-d6c1-4314-9951-c436c58fc283",
     "showTitle": false,
     "tableResultSettingsMap": {},
     "title": ""
    }
   },
   "source": [
    "This tells us that we do not have any location where population is varying, it is having same value for each country throughout the dataset. So we can remove the column as it is constant for each country. "
   ]
  },
  {
   "cell_type": "code",
   "execution_count": 0,
   "metadata": {
    "application/vnd.databricks.v1+cell": {
     "cellMetadata": {
      "byteLimit": 2048000,
      "rowLimit": 10000
     },
     "inputWidgets": {},
     "nuid": "86c67f1f-c4be-4b86-98d6-5353feb7bdf2",
     "showTitle": false,
     "tableResultSettingsMap": {},
     "title": ""
    }
   },
   "outputs": [
    {
     "output_type": "display_data",
     "data": {
      "text/html": [
       "<style scoped>\n",
       "  .table-result-container {\n",
       "    max-height: 300px;\n",
       "    overflow: auto;\n",
       "  }\n",
       "  table, th, td {\n",
       "    border: 1px solid black;\n",
       "    border-collapse: collapse;\n",
       "  }\n",
       "  th, td {\n",
       "    padding: 5px;\n",
       "  }\n",
       "  th {\n",
       "    text-align: left;\n",
       "  }\n",
       "</style><div class='table-result-container'><table class='table-result'><thead style='background-color: white'><tr><th>iso_code</th><th>continent</th><th>location</th><th>date</th><th>total_cases</th><th>new_cases</th><th>new_cases_smoothed</th><th>total_deaths</th><th>new_deaths</th><th>new_deaths_smoothed</th><th>total_cases_per_million</th><th>new_cases_per_million</th><th>new_cases_smoothed_per_million</th><th>total_deaths_per_million</th><th>new_deaths_per_million</th><th>new_deaths_smoothed_per_million</th><th>reproduction_rate</th><th>icu_patients</th><th>icu_patients_per_million</th><th>hosp_patients</th><th>hosp_patients_per_million</th><th>weekly_icu_admissions</th><th>weekly_icu_admissions_per_million</th><th>weekly_hosp_admissions</th><th>weekly_hosp_admissions_per_million</th><th>new_tests</th><th>total_tests</th><th>total_tests_per_thousand</th><th>new_tests_per_thousand</th><th>new_tests_smoothed</th><th>new_tests_smoothed_per_thousand</th><th>positive_rate</th><th>tests_per_case</th><th>tests_units</th><th>total_vaccinations</th><th>people_vaccinated</th><th>people_fully_vaccinated</th><th>total_boosters</th><th>new_vaccinations</th><th>new_vaccinations_smoothed</th><th>total_vaccinations_per_hundred</th><th>people_vaccinated_per_hundred</th><th>people_fully_vaccinated_per_hundred</th><th>total_boosters_per_hundred</th><th>new_vaccinations_smoothed_per_million</th><th>new_people_vaccinated_smoothed</th><th>new_people_vaccinated_smoothed_per_hundred</th><th>stringency_index</th><th>population</th><th>population_density</th><th>median_age</th><th>aged_65_older</th><th>aged_70_older</th><th>gdp_per_capita</th><th>extreme_poverty</th><th>cardiovasc_death_rate</th><th>diabetes_prevalence</th><th>female_smokers</th><th>male_smokers</th><th>handwashing_facilities</th><th>hospital_beds_per_thousand</th><th>life_expectancy</th><th>human_development_index</th><th>excess_mortality_cumulative_absolute</th><th>excess_mortality_cumulative</th><th>excess_mortality</th><th>excess_mortality_cumulative_per_million</th></tr></thead><tbody><tr><td>AFG</td><td>Asia</td><td>Afghanistan</td><td>2020-02-24</td><td>5.0</td><td>5.0</td><td>null</td><td>null</td><td>null</td><td>null</td><td>0.126</td><td>0.126</td><td>null</td><td>null</td><td>null</td><td>null</td><td>null</td><td>null</td><td>null</td><td>null</td><td>null</td><td>null</td><td>null</td><td>null</td><td>null</td><td>null</td><td>null</td><td>null</td><td>null</td><td>null</td><td>null</td><td>null</td><td>null</td><td>null</td><td>null</td><td>null</td><td>null</td><td>null</td><td>null</td><td>null</td><td>null</td><td>null</td><td>null</td><td>null</td><td>null</td><td>null</td><td>null</td><td>8.33</td><td>3.9835428E7</td><td>54.422</td><td>18.6</td><td>2.581</td><td>1.337</td><td>1803.987</td><td>null</td><td>597.029</td><td>9.59</td><td>null</td><td>null</td><td>37.746</td><td>0.5</td><td>64.83</td><td>0.511</td><td>null</td><td>null</td><td>null</td><td>null</td></tr><tr><td>AFG</td><td>Asia</td><td>Afghanistan</td><td>2020-02-25</td><td>5.0</td><td>0.0</td><td>null</td><td>null</td><td>null</td><td>null</td><td>0.126</td><td>0.0</td><td>null</td><td>null</td><td>null</td><td>null</td><td>null</td><td>null</td><td>null</td><td>null</td><td>null</td><td>null</td><td>null</td><td>null</td><td>null</td><td>null</td><td>null</td><td>null</td><td>null</td><td>null</td><td>null</td><td>null</td><td>null</td><td>null</td><td>null</td><td>null</td><td>null</td><td>null</td><td>null</td><td>null</td><td>null</td><td>null</td><td>null</td><td>null</td><td>null</td><td>null</td><td>null</td><td>8.33</td><td>3.9835428E7</td><td>54.422</td><td>18.6</td><td>2.581</td><td>1.337</td><td>1803.987</td><td>null</td><td>597.029</td><td>9.59</td><td>null</td><td>null</td><td>37.746</td><td>0.5</td><td>64.83</td><td>0.511</td><td>null</td><td>null</td><td>null</td><td>null</td></tr><tr><td>AFG</td><td>Asia</td><td>Afghanistan</td><td>2020-02-26</td><td>5.0</td><td>0.0</td><td>null</td><td>null</td><td>null</td><td>null</td><td>0.126</td><td>0.0</td><td>null</td><td>null</td><td>null</td><td>null</td><td>null</td><td>null</td><td>null</td><td>null</td><td>null</td><td>null</td><td>null</td><td>null</td><td>null</td><td>null</td><td>null</td><td>null</td><td>null</td><td>null</td><td>null</td><td>null</td><td>null</td><td>null</td><td>null</td><td>null</td><td>null</td><td>null</td><td>null</td><td>null</td><td>null</td><td>null</td><td>null</td><td>null</td><td>null</td><td>null</td><td>null</td><td>8.33</td><td>3.9835428E7</td><td>54.422</td><td>18.6</td><td>2.581</td><td>1.337</td><td>1803.987</td><td>null</td><td>597.029</td><td>9.59</td><td>null</td><td>null</td><td>37.746</td><td>0.5</td><td>64.83</td><td>0.511</td><td>null</td><td>null</td><td>null</td><td>null</td></tr><tr><td>AFG</td><td>Asia</td><td>Afghanistan</td><td>2020-02-27</td><td>5.0</td><td>0.0</td><td>null</td><td>null</td><td>null</td><td>null</td><td>0.126</td><td>0.0</td><td>null</td><td>null</td><td>null</td><td>null</td><td>null</td><td>null</td><td>null</td><td>null</td><td>null</td><td>null</td><td>null</td><td>null</td><td>null</td><td>null</td><td>null</td><td>null</td><td>null</td><td>null</td><td>null</td><td>null</td><td>null</td><td>null</td><td>null</td><td>null</td><td>null</td><td>null</td><td>null</td><td>null</td><td>null</td><td>null</td><td>null</td><td>null</td><td>null</td><td>null</td><td>null</td><td>8.33</td><td>3.9835428E7</td><td>54.422</td><td>18.6</td><td>2.581</td><td>1.337</td><td>1803.987</td><td>null</td><td>597.029</td><td>9.59</td><td>null</td><td>null</td><td>37.746</td><td>0.5</td><td>64.83</td><td>0.511</td><td>null</td><td>null</td><td>null</td><td>null</td></tr><tr><td>AFG</td><td>Asia</td><td>Afghanistan</td><td>2020-02-28</td><td>5.0</td><td>0.0</td><td>null</td><td>null</td><td>null</td><td>null</td><td>0.126</td><td>0.0</td><td>null</td><td>null</td><td>null</td><td>null</td><td>null</td><td>null</td><td>null</td><td>null</td><td>null</td><td>null</td><td>null</td><td>null</td><td>null</td><td>null</td><td>null</td><td>null</td><td>null</td><td>null</td><td>null</td><td>null</td><td>null</td><td>null</td><td>null</td><td>null</td><td>null</td><td>null</td><td>null</td><td>null</td><td>null</td><td>null</td><td>null</td><td>null</td><td>null</td><td>null</td><td>null</td><td>8.33</td><td>3.9835428E7</td><td>54.422</td><td>18.6</td><td>2.581</td><td>1.337</td><td>1803.987</td><td>null</td><td>597.029</td><td>9.59</td><td>null</td><td>null</td><td>37.746</td><td>0.5</td><td>64.83</td><td>0.511</td><td>null</td><td>null</td><td>null</td><td>null</td></tr></tbody></table></div>"
      ]
     },
     "metadata": {
      "application/vnd.databricks.v1+output": {
       "addedWidgets": {},
       "aggData": [],
       "aggError": "",
       "aggOverflow": false,
       "aggSchema": [],
       "aggSeriesLimitReached": false,
       "aggType": "",
       "arguments": {},
       "columnCustomDisplayInfos": {},
       "data": [
        [
         "AFG",
         "Asia",
         "Afghanistan",
         "2020-02-24",
         5.0,
         5.0,
         null,
         null,
         null,
         null,
         0.126,
         0.126,
         null,
         null,
         null,
         null,
         null,
         null,
         null,
         null,
         null,
         null,
         null,
         null,
         null,
         null,
         null,
         null,
         null,
         null,
         null,
         null,
         null,
         null,
         null,
         null,
         null,
         null,
         null,
         null,
         null,
         null,
         null,
         null,
         null,
         null,
         null,
         8.33,
         3.9835428E7,
         54.422,
         18.6,
         2.581,
         1.337,
         1803.987,
         null,
         597.029,
         9.59,
         null,
         null,
         37.746,
         0.5,
         64.83,
         0.511,
         null,
         null,
         null,
         null
        ],
        [
         "AFG",
         "Asia",
         "Afghanistan",
         "2020-02-25",
         5.0,
         0.0,
         null,
         null,
         null,
         null,
         0.126,
         0.0,
         null,
         null,
         null,
         null,
         null,
         null,
         null,
         null,
         null,
         null,
         null,
         null,
         null,
         null,
         null,
         null,
         null,
         null,
         null,
         null,
         null,
         null,
         null,
         null,
         null,
         null,
         null,
         null,
         null,
         null,
         null,
         null,
         null,
         null,
         null,
         8.33,
         3.9835428E7,
         54.422,
         18.6,
         2.581,
         1.337,
         1803.987,
         null,
         597.029,
         9.59,
         null,
         null,
         37.746,
         0.5,
         64.83,
         0.511,
         null,
         null,
         null,
         null
        ],
        [
         "AFG",
         "Asia",
         "Afghanistan",
         "2020-02-26",
         5.0,
         0.0,
         null,
         null,
         null,
         null,
         0.126,
         0.0,
         null,
         null,
         null,
         null,
         null,
         null,
         null,
         null,
         null,
         null,
         null,
         null,
         null,
         null,
         null,
         null,
         null,
         null,
         null,
         null,
         null,
         null,
         null,
         null,
         null,
         null,
         null,
         null,
         null,
         null,
         null,
         null,
         null,
         null,
         null,
         8.33,
         3.9835428E7,
         54.422,
         18.6,
         2.581,
         1.337,
         1803.987,
         null,
         597.029,
         9.59,
         null,
         null,
         37.746,
         0.5,
         64.83,
         0.511,
         null,
         null,
         null,
         null
        ],
        [
         "AFG",
         "Asia",
         "Afghanistan",
         "2020-02-27",
         5.0,
         0.0,
         null,
         null,
         null,
         null,
         0.126,
         0.0,
         null,
         null,
         null,
         null,
         null,
         null,
         null,
         null,
         null,
         null,
         null,
         null,
         null,
         null,
         null,
         null,
         null,
         null,
         null,
         null,
         null,
         null,
         null,
         null,
         null,
         null,
         null,
         null,
         null,
         null,
         null,
         null,
         null,
         null,
         null,
         8.33,
         3.9835428E7,
         54.422,
         18.6,
         2.581,
         1.337,
         1803.987,
         null,
         597.029,
         9.59,
         null,
         null,
         37.746,
         0.5,
         64.83,
         0.511,
         null,
         null,
         null,
         null
        ],
        [
         "AFG",
         "Asia",
         "Afghanistan",
         "2020-02-28",
         5.0,
         0.0,
         null,
         null,
         null,
         null,
         0.126,
         0.0,
         null,
         null,
         null,
         null,
         null,
         null,
         null,
         null,
         null,
         null,
         null,
         null,
         null,
         null,
         null,
         null,
         null,
         null,
         null,
         null,
         null,
         null,
         null,
         null,
         null,
         null,
         null,
         null,
         null,
         null,
         null,
         null,
         null,
         null,
         null,
         8.33,
         3.9835428E7,
         54.422,
         18.6,
         2.581,
         1.337,
         1803.987,
         null,
         597.029,
         9.59,
         null,
         null,
         37.746,
         0.5,
         64.83,
         0.511,
         null,
         null,
         null,
         null
        ]
       ],
       "datasetInfos": [],
       "dbfsResultPath": null,
       "isJsonSchema": true,
       "metadata": {},
       "overflow": false,
       "plotOptions": {
        "customPlotOptions": {},
        "displayType": "table",
        "pivotAggregation": null,
        "pivotColumns": null,
        "xColumns": null,
        "yColumns": null
       },
       "removedWidgets": [],
       "schema": [
        {
         "metadata": "{}",
         "name": "iso_code",
         "type": "\"string\""
        },
        {
         "metadata": "{}",
         "name": "continent",
         "type": "\"string\""
        },
        {
         "metadata": "{}",
         "name": "location",
         "type": "\"string\""
        },
        {
         "metadata": "{}",
         "name": "date",
         "type": "\"date\""
        },
        {
         "metadata": "{}",
         "name": "total_cases",
         "type": "\"double\""
        },
        {
         "metadata": "{}",
         "name": "new_cases",
         "type": "\"double\""
        },
        {
         "metadata": "{}",
         "name": "new_cases_smoothed",
         "type": "\"double\""
        },
        {
         "metadata": "{}",
         "name": "total_deaths",
         "type": "\"double\""
        },
        {
         "metadata": "{}",
         "name": "new_deaths",
         "type": "\"double\""
        },
        {
         "metadata": "{}",
         "name": "new_deaths_smoothed",
         "type": "\"double\""
        },
        {
         "metadata": "{}",
         "name": "total_cases_per_million",
         "type": "\"double\""
        },
        {
         "metadata": "{}",
         "name": "new_cases_per_million",
         "type": "\"double\""
        },
        {
         "metadata": "{}",
         "name": "new_cases_smoothed_per_million",
         "type": "\"double\""
        },
        {
         "metadata": "{}",
         "name": "total_deaths_per_million",
         "type": "\"double\""
        },
        {
         "metadata": "{}",
         "name": "new_deaths_per_million",
         "type": "\"double\""
        },
        {
         "metadata": "{}",
         "name": "new_deaths_smoothed_per_million",
         "type": "\"double\""
        },
        {
         "metadata": "{}",
         "name": "reproduction_rate",
         "type": "\"double\""
        },
        {
         "metadata": "{}",
         "name": "icu_patients",
         "type": "\"double\""
        },
        {
         "metadata": "{}",
         "name": "icu_patients_per_million",
         "type": "\"double\""
        },
        {
         "metadata": "{}",
         "name": "hosp_patients",
         "type": "\"double\""
        },
        {
         "metadata": "{}",
         "name": "hosp_patients_per_million",
         "type": "\"double\""
        },
        {
         "metadata": "{}",
         "name": "weekly_icu_admissions",
         "type": "\"double\""
        },
        {
         "metadata": "{}",
         "name": "weekly_icu_admissions_per_million",
         "type": "\"double\""
        },
        {
         "metadata": "{}",
         "name": "weekly_hosp_admissions",
         "type": "\"double\""
        },
        {
         "metadata": "{}",
         "name": "weekly_hosp_admissions_per_million",
         "type": "\"double\""
        },
        {
         "metadata": "{}",
         "name": "new_tests",
         "type": "\"double\""
        },
        {
         "metadata": "{}",
         "name": "total_tests",
         "type": "\"double\""
        },
        {
         "metadata": "{}",
         "name": "total_tests_per_thousand",
         "type": "\"double\""
        },
        {
         "metadata": "{}",
         "name": "new_tests_per_thousand",
         "type": "\"double\""
        },
        {
         "metadata": "{}",
         "name": "new_tests_smoothed",
         "type": "\"double\""
        },
        {
         "metadata": "{}",
         "name": "new_tests_smoothed_per_thousand",
         "type": "\"double\""
        },
        {
         "metadata": "{}",
         "name": "positive_rate",
         "type": "\"double\""
        },
        {
         "metadata": "{}",
         "name": "tests_per_case",
         "type": "\"double\""
        },
        {
         "metadata": "{}",
         "name": "tests_units",
         "type": "\"void\""
        },
        {
         "metadata": "{}",
         "name": "total_vaccinations",
         "type": "\"double\""
        },
        {
         "metadata": "{}",
         "name": "people_vaccinated",
         "type": "\"double\""
        },
        {
         "metadata": "{}",
         "name": "people_fully_vaccinated",
         "type": "\"double\""
        },
        {
         "metadata": "{}",
         "name": "total_boosters",
         "type": "\"double\""
        },
        {
         "metadata": "{}",
         "name": "new_vaccinations",
         "type": "\"double\""
        },
        {
         "metadata": "{}",
         "name": "new_vaccinations_smoothed",
         "type": "\"double\""
        },
        {
         "metadata": "{}",
         "name": "total_vaccinations_per_hundred",
         "type": "\"double\""
        },
        {
         "metadata": "{}",
         "name": "people_vaccinated_per_hundred",
         "type": "\"double\""
        },
        {
         "metadata": "{}",
         "name": "people_fully_vaccinated_per_hundred",
         "type": "\"double\""
        },
        {
         "metadata": "{}",
         "name": "total_boosters_per_hundred",
         "type": "\"double\""
        },
        {
         "metadata": "{}",
         "name": "new_vaccinations_smoothed_per_million",
         "type": "\"double\""
        },
        {
         "metadata": "{}",
         "name": "new_people_vaccinated_smoothed",
         "type": "\"double\""
        },
        {
         "metadata": "{}",
         "name": "new_people_vaccinated_smoothed_per_hundred",
         "type": "\"double\""
        },
        {
         "metadata": "{}",
         "name": "stringency_index",
         "type": "\"double\""
        },
        {
         "metadata": "{}",
         "name": "population",
         "type": "\"double\""
        },
        {
         "metadata": "{}",
         "name": "population_density",
         "type": "\"double\""
        },
        {
         "metadata": "{}",
         "name": "median_age",
         "type": "\"double\""
        },
        {
         "metadata": "{}",
         "name": "aged_65_older",
         "type": "\"double\""
        },
        {
         "metadata": "{}",
         "name": "aged_70_older",
         "type": "\"double\""
        },
        {
         "metadata": "{}",
         "name": "gdp_per_capita",
         "type": "\"double\""
        },
        {
         "metadata": "{}",
         "name": "extreme_poverty",
         "type": "\"double\""
        },
        {
         "metadata": "{}",
         "name": "cardiovasc_death_rate",
         "type": "\"double\""
        },
        {
         "metadata": "{}",
         "name": "diabetes_prevalence",
         "type": "\"double\""
        },
        {
         "metadata": "{}",
         "name": "female_smokers",
         "type": "\"double\""
        },
        {
         "metadata": "{}",
         "name": "male_smokers",
         "type": "\"double\""
        },
        {
         "metadata": "{}",
         "name": "handwashing_facilities",
         "type": "\"double\""
        },
        {
         "metadata": "{}",
         "name": "hospital_beds_per_thousand",
         "type": "\"double\""
        },
        {
         "metadata": "{}",
         "name": "life_expectancy",
         "type": "\"double\""
        },
        {
         "metadata": "{}",
         "name": "human_development_index",
         "type": "\"double\""
        },
        {
         "metadata": "{}",
         "name": "excess_mortality_cumulative_absolute",
         "type": "\"double\""
        },
        {
         "metadata": "{}",
         "name": "excess_mortality_cumulative",
         "type": "\"double\""
        },
        {
         "metadata": "{}",
         "name": "excess_mortality",
         "type": "\"double\""
        },
        {
         "metadata": "{}",
         "name": "excess_mortality_cumulative_per_million",
         "type": "\"double\""
        }
       ],
       "type": "table"
      }
     },
     "output_type": "display_data"
    }
   ],
   "source": [
    "## We can create a dataframe where we can keep the avg and median value of the cases for a country, and avg median values of\n",
    "# new cases each day.\n",
    "\n",
    "\n",
    "display(df_filtered_1.limit(5).toPandas())"
   ]
  },
  {
   "cell_type": "code",
   "execution_count": 0,
   "metadata": {
    "application/vnd.databricks.v1+cell": {
     "cellMetadata": {},
     "inputWidgets": {},
     "nuid": "e597f80a-a7cc-4f54-839c-c124dabd3897",
     "showTitle": false,
     "tableResultSettingsMap": {},
     "title": ""
    }
   },
   "outputs": [],
   "source": [
    "## We can create three analysis majorly now -\n",
    "\n",
    "\n",
    "# 1. What is the average and median number of cases we are getting each day overall.\n",
    "# 2. What is the average and median number of cases we are getting each country - new cases\n",
    "# 3. What is the average and median number of cases we are getting each country - total cases\n"
   ]
  },
  {
   "cell_type": "code",
   "execution_count": 0,
   "metadata": {
    "application/vnd.databricks.v1+cell": {
     "cellMetadata": {
      "byteLimit": 2048000,
      "rowLimit": 10000
     },
     "inputWidgets": {},
     "nuid": "3e026eed-ffda-415a-8d39-19816cc598d6",
     "showTitle": false,
     "tableResultSettingsMap": {},
     "title": ""
    }
   },
   "outputs": [
    {
     "output_type": "stream",
     "name": "stdout",
     "output_type": "stream",
     "text": [
      "root\n |-- date: date (nullable = true)\n\n"
     ]
    }
   ],
   "source": [
    "df_filtered_1.select(\"date\").printSchema()"
   ]
  },
  {
   "cell_type": "code",
   "execution_count": 0,
   "metadata": {
    "application/vnd.databricks.v1+cell": {
     "cellMetadata": {
      "byteLimit": 2048000,
      "rowLimit": 10000
     },
     "inputWidgets": {},
     "nuid": "3e1b13ca-1c1c-465c-98b5-a1d4f8b3a653",
     "showTitle": false,
     "tableResultSettingsMap": {},
     "title": ""
    }
   },
   "outputs": [
    {
     "output_type": "stream",
     "name": "stdout",
     "output_type": "stream",
     "text": [
      "+----------+------------------+----------------+----------------+\n|      date| average_new_Cases|medain_new_cases|sum_of_new_cases|\n+----------+------------------+----------------+----------------+\n|2020-01-23| 9.090909090909092|             1.0|           100.0|\n|2020-01-24|23.916666666666668|             1.0|           287.0|\n|2020-01-25|35.214285714285715|             0.0|           493.0|\n|2020-01-26| 45.53333333333333|             1.0|           683.0|\n|2020-01-27| 44.94444444444444|             0.0|           809.0|\n|2020-01-28|147.27777777777777|             0.0|          2651.0|\n|2020-01-29|             29.45|             0.0|           589.0|\n|2020-01-30|              94.0|             0.0|          2068.0|\n|2020-01-31|              67.6|             0.0|          1690.0|\n|2020-02-01| 78.18518518518519|             0.0|          2111.0|\n|2020-02-02|175.88888888888889|             0.0|          4749.0|\n|2020-02-03|114.81481481481481|             0.0|          3100.0|\n|2020-02-04|143.28571428571428|             0.0|          4012.0|\n|2020-02-05|            133.75|             0.0|          3745.0|\n|2020-02-06|112.92857142857143|             0.0|          3162.0|\n|2020-02-07|126.17857142857143|             0.0|          3533.0|\n|2020-02-08| 97.53571428571429|             0.0|          2731.0|\n|2020-02-09|108.14285714285714|             0.0|          3028.0|\n|2020-02-10| 90.64285714285714|             0.0|          2538.0|\n|2020-02-11| 72.96428571428571|             0.0|          2043.0|\n+----------+------------------+----------------+----------------+\nonly showing top 20 rows\n\n"
     ]
    }
   ],
   "source": [
    "from pyspark.sql.functions import avg, expr, sum\n",
    "\n",
    "\n",
    "\n",
    "## Let us get the average and median of new cases and total cases \n",
    "\n",
    "new_cases = df_filtered_1.groupBy(\"date\").agg(\n",
    "    avg(\"new_cases\").alias(\"average_new_Cases\"),\n",
    "    expr(\"percentile_approx(new_cases, 0.5)\").alias(\"medain_new_cases\"),\n",
    "    sum(\"new_cases\").alias(\"sum_of_new_cases\")\n",
    ").orderBy(\"date\")\n",
    "\n",
    "\n",
    "\n",
    "new_cases = new_cases.filter(col(\"date\")>\"2020-01-22\")\n",
    "\n",
    "new_cases.show()"
   ]
  },
  {
   "cell_type": "markdown",
   "metadata": {
    "application/vnd.databricks.v1+cell": {
     "cellMetadata": {},
     "inputWidgets": {},
     "nuid": "2d1e919b-9abf-4d00-8202-afd5594f9ca0",
     "showTitle": false,
     "tableResultSettingsMap": {},
     "title": ""
    }
   },
   "source": [
    "After further analysis we got to know that there are nUll values for the new cases till 22-Jan-2020. We will filter that data from our new dataset. "
   ]
  },
  {
   "cell_type": "code",
   "execution_count": 0,
   "metadata": {
    "application/vnd.databricks.v1+cell": {
     "cellMetadata": {
      "byteLimit": 2048000,
      "rowLimit": 10000
     },
     "inputWidgets": {},
     "nuid": "aaf99bbf-03a2-43e2-a38b-dd9926d188e8",
     "showTitle": false,
     "tableResultSettingsMap": {},
     "title": ""
    }
   },
   "outputs": [
    {
     "output_type": "stream",
     "name": "stdout",
     "output_type": "stream",
     "text": [
      "+----------+-------------------+------------------+------------------+\n|      date|average_total_Cases|medain_total_cases|sum_of_total_cases|\n+----------+-------------------+------------------+------------------+\n|2020-01-23|  59.72727272727273|               2.0|             657.0|\n|2020-01-24|  78.66666666666667|               2.0|             944.0|\n|2020-01-25| 102.64285714285714|               3.0|            1437.0|\n|2020-01-26| 141.33333333333334|               4.0|            2120.0|\n|2020-01-27| 162.72222222222223|               4.0|            2929.0|\n|2020-01-28|              310.0|               4.0|            5580.0|\n|2020-01-29|             308.45|               5.0|            6169.0|\n|2020-01-30| 374.40909090909093|               4.0|            8237.0|\n|2020-01-31|             397.08|               5.0|            9927.0|\n|2020-02-01| 445.85185185185185|               6.0|           12038.0|\n|2020-02-02|  621.7407407407408|               6.0|           16787.0|\n|2020-02-03|  736.5555555555555|               8.0|           19887.0|\n|2020-02-04|  853.5357142857143|               6.0|           23899.0|\n|2020-02-05|  987.2857142857143|               6.0|           27644.0|\n|2020-02-06| 1100.2142857142858|               6.0|           30806.0|\n|2020-02-07|  1226.392857142857|               8.0|           34339.0|\n|2020-02-08| 1323.9285714285713|              10.0|           37070.0|\n|2020-02-09| 1432.0714285714287|              10.0|           40098.0|\n|2020-02-10| 1522.7142857142858|              10.0|           42636.0|\n|2020-02-11| 1595.6785714285713|              10.0|           44679.0|\n+----------+-------------------+------------------+------------------+\nonly showing top 20 rows\n\n"
     ]
    }
   ],
   "source": [
    "## Let us see same thing for total cases\n",
    "\n",
    "\n",
    "\n",
    "total_cases = df_filtered_1.groupBy(\"date\").agg(\n",
    "    avg(\"total_cases\").alias(\"average_total_Cases\"),\n",
    "    expr(\"percentile_approx(total_cases, 0.5)\").alias(\"medain_total_cases\"),\n",
    "    sum(\"total_cases\").alias(\"sum_of_total_cases\")\n",
    ").orderBy(\"date\")\n",
    "\n",
    "\n",
    "total_cases = total_cases.filter(col(\"date\")>\"2020-01-22\")\n",
    "\n",
    "\n",
    "total_cases.show()"
   ]
  },
  {
   "cell_type": "code",
   "execution_count": 0,
   "metadata": {
    "application/vnd.databricks.v1+cell": {
     "cellMetadata": {
      "byteLimit": 2048000,
      "rowLimit": 10000
     },
     "inputWidgets": {},
     "nuid": "f7bbb72e-2daa-4d64-84c9-926aa77a9e6c",
     "showTitle": false,
     "tableResultSettingsMap": {},
     "title": ""
    }
   },
   "outputs": [
    {
     "output_type": "stream",
     "name": "stdout",
     "output_type": "stream",
     "text": [
      "+----------+--------------------+------------------+-------------------+\n|      date|average_total_deaths|medain_total_death|sum_of_total_deaths|\n+----------+--------------------+------------------+-------------------+\n|2020-01-23|                18.0|              18.0|               18.0|\n|2020-01-24|                26.0|              26.0|               26.0|\n|2020-01-25|                42.0|              42.0|               42.0|\n|2020-01-26|                56.0|              56.0|               56.0|\n|2020-01-27|                82.0|              82.0|               82.0|\n|2020-01-28|               131.0|             131.0|              131.0|\n|2020-01-29|               133.0|             133.0|              133.0|\n|2020-01-30|               171.0|             171.0|              171.0|\n|2020-01-31|               213.0|             213.0|              213.0|\n|2020-02-01|               259.0|             259.0|              259.0|\n|2020-02-02|               181.0|               1.0|              362.0|\n|2020-02-03|               213.0|               1.0|              426.0|\n|2020-02-04|               164.0|               1.0|              492.0|\n|2020-02-05|               188.0|               1.0|              564.0|\n|2020-02-06|  211.33333333333334|               1.0|              634.0|\n|2020-02-07|  239.66666666666666|               1.0|              719.0|\n|2020-02-08|   268.6666666666667|               1.0|              806.0|\n|2020-02-09|               302.0|               1.0|              906.0|\n|2020-02-10|   337.6666666666667|               1.0|             1013.0|\n|2020-02-11|               371.0|               1.0|             1113.0|\n+----------+--------------------+------------------+-------------------+\nonly showing top 20 rows\n\n"
     ]
    }
   ],
   "source": [
    "## Let us check the same thing for total_deaths\n",
    "\n",
    "\n",
    "total_deaths = df_filtered_1.groupBy(\"date\").agg(\n",
    "    avg(\"total_deaths\").alias(\"average_total_deaths\"),\n",
    "    expr(\"percentile_approx(total_deaths, 0.5)\").alias(\"medain_total_death\"),\n",
    "    sum(\"total_deaths\").alias(\"sum_of_total_deaths\")\n",
    ").orderBy(\"date\")\n",
    "\n",
    "\n",
    "total_deaths = total_deaths.filter(col(\"date\")>\"2020-01-22\")\n",
    "\n",
    "\n",
    "total_deaths.show()"
   ]
  },
  {
   "cell_type": "code",
   "execution_count": 0,
   "metadata": {
    "application/vnd.databricks.v1+cell": {
     "cellMetadata": {
      "byteLimit": 2048000,
      "rowLimit": 10000
     },
     "inputWidgets": {},
     "nuid": "f0928cbb-6c34-43db-b6d3-89afeac2a4db",
     "showTitle": false,
     "tableResultSettingsMap": {},
     "title": ""
    }
   },
   "outputs": [
    {
     "output_type": "stream",
     "name": "stdout",
     "output_type": "stream",
     "text": [
      "+----------+------------------+----------------+----------------+-------------------+------------------+------------------+--------------------+------------------+-------------------+\n|      date| average_new_Cases|medain_new_cases|sum_of_new_cases|average_total_Cases|medain_total_cases|sum_of_total_cases|average_total_deaths|medain_total_death|sum_of_total_deaths|\n+----------+------------------+----------------+----------------+-------------------+------------------+------------------+--------------------+------------------+-------------------+\n|2020-01-23| 9.090909090909092|             1.0|           100.0|  59.72727272727273|               2.0|             657.0|                18.0|              18.0|               18.0|\n|2020-01-24|23.916666666666668|             1.0|           287.0|  78.66666666666667|               2.0|             944.0|                26.0|              26.0|               26.0|\n|2020-01-25|35.214285714285715|             0.0|           493.0| 102.64285714285714|               3.0|            1437.0|                42.0|              42.0|               42.0|\n|2020-01-26| 45.53333333333333|             1.0|           683.0| 141.33333333333334|               4.0|            2120.0|                56.0|              56.0|               56.0|\n|2020-01-27| 44.94444444444444|             0.0|           809.0| 162.72222222222223|               4.0|            2929.0|                82.0|              82.0|               82.0|\n|2020-01-28|147.27777777777777|             0.0|          2651.0|              310.0|               4.0|            5580.0|               131.0|             131.0|              131.0|\n|2020-01-29|             29.45|             0.0|           589.0|             308.45|               5.0|            6169.0|               133.0|             133.0|              133.0|\n|2020-01-30|              94.0|             0.0|          2068.0| 374.40909090909093|               4.0|            8237.0|               171.0|             171.0|              171.0|\n|2020-01-31|              67.6|             0.0|          1690.0|             397.08|               5.0|            9927.0|               213.0|             213.0|              213.0|\n|2020-02-01| 78.18518518518519|             0.0|          2111.0| 445.85185185185185|               6.0|           12038.0|               259.0|             259.0|              259.0|\n|2020-02-02|175.88888888888889|             0.0|          4749.0|  621.7407407407408|               6.0|           16787.0|               181.0|               1.0|              362.0|\n|2020-02-03|114.81481481481481|             0.0|          3100.0|  736.5555555555555|               8.0|           19887.0|               213.0|               1.0|              426.0|\n|2020-02-04|143.28571428571428|             0.0|          4012.0|  853.5357142857143|               6.0|           23899.0|               164.0|               1.0|              492.0|\n|2020-02-05|            133.75|             0.0|          3745.0|  987.2857142857143|               6.0|           27644.0|               188.0|               1.0|              564.0|\n|2020-02-06|112.92857142857143|             0.0|          3162.0| 1100.2142857142858|               6.0|           30806.0|  211.33333333333334|               1.0|              634.0|\n|2020-02-07|126.17857142857143|             0.0|          3533.0|  1226.392857142857|               8.0|           34339.0|  239.66666666666666|               1.0|              719.0|\n|2020-02-08| 97.53571428571429|             0.0|          2731.0| 1323.9285714285713|              10.0|           37070.0|   268.6666666666667|               1.0|              806.0|\n|2020-02-09|108.14285714285714|             0.0|          3028.0| 1432.0714285714287|              10.0|           40098.0|               302.0|               1.0|              906.0|\n|2020-02-10| 90.64285714285714|             0.0|          2538.0| 1522.7142857142858|              10.0|           42636.0|   337.6666666666667|               1.0|             1013.0|\n|2020-02-11| 72.96428571428571|             0.0|          2043.0| 1595.6785714285713|              10.0|           44679.0|               371.0|               1.0|             1113.0|\n+----------+------------------+----------------+----------------+-------------------+------------------+------------------+--------------------+------------------+-------------------+\nonly showing top 20 rows\n\n"
     ]
    }
   ],
   "source": [
    "## We can merge this dataframe into one and store them into s3 as parquet\n",
    "\n",
    "covid_Cases_data_day_wise = new_cases.join(total_cases, on=\"date\", how=\"left\")\n",
    "\n",
    "covid_Cases_and_death_day_wise = covid_Cases_data_day_wise.join(total_deaths, on=\"date\", how=\"left\")\n",
    "\n",
    "covid_Cases_and_death_day_wise.show()\n"
   ]
  },
  {
   "cell_type": "code",
   "execution_count": 0,
   "metadata": {
    "application/vnd.databricks.v1+cell": {
     "cellMetadata": {
      "byteLimit": 2048000,
      "rowLimit": 10000
     },
     "inputWidgets": {},
     "nuid": "4beed0b3-da7e-4f81-8c95-deb8baadebc5",
     "showTitle": false,
     "tableResultSettingsMap": {},
     "title": ""
    }
   },
   "outputs": [],
   "source": [
    "covid_Cases_and_death_day_wise.write.mode(\"overwrite\") \\\n",
    "    .parquet(\"s3a://dj-databricks-pipeline/day_wise_parquet/\")"
   ]
  },
  {
   "cell_type": "markdown",
   "metadata": {
    "application/vnd.databricks.v1+cell": {
     "cellMetadata": {},
     "inputWidgets": {},
     "nuid": "a9cb8432-4c86-4fd7-b0d5-7010ea98b44e",
     "showTitle": false,
     "tableResultSettingsMap": {},
     "title": ""
    }
   },
   "source": [
    "## Let us do same thing wrt country"
   ]
  },
  {
   "cell_type": "code",
   "execution_count": 0,
   "metadata": {
    "application/vnd.databricks.v1+cell": {
     "cellMetadata": {
      "byteLimit": 2048000,
      "rowLimit": 10000
     },
     "inputWidgets": {},
     "nuid": "cf4b0c8c-8817-4730-b671-10b73ed9b3d1",
     "showTitle": false,
     "tableResultSettingsMap": {},
     "title": ""
    }
   },
   "outputs": [
    {
     "output_type": "stream",
     "name": "stdout",
     "output_type": "stream",
     "text": [
      "+-------------------+------------------+----------------+----------------+\n|           location| average_new_Cases|medain_new_cases|sum_of_new_cases|\n+-------------------+------------------+----------------+----------------+\n|        Afghanistan|235.91204330175913|            78.0|        174339.0|\n|            Albania| 374.6969696969697|           182.0|        272030.0|\n|            Algeria|358.41486486486485|           235.0|        265227.0|\n|            Andorra| 52.36239782016349|            12.0|         38434.0|\n|             Angola| 137.9832402234637|            71.0|         98796.0|\n|           Anguilla|3.6087570621468927|             0.0|          2555.0|\n|Antigua and Barbuda| 10.34257975034674|             0.0|          7457.0|\n|          Argentina|12188.714870395634|          7208.0|       8934328.0|\n|            Armenia| 573.0965986394558|           339.0|        421226.0|\n|              Aruba|46.655601659751035|            17.0|         33732.0|\n|          Australia| 4415.970052083333|            29.0|       3391465.0|\n|            Austria|3836.8878378378377|          1346.0|       2839297.0|\n|         Azerbaijan|1073.4122448979592|           497.0|        788958.0|\n|            Bahamas| 46.19888734353268|             8.0|         33217.0|\n|            Bahrain| 708.7327935222672|           321.0|        525171.0|\n|         Bangladesh| 2674.089285714286|          1595.0|       1946737.0|\n|           Barbados| 77.90403337969401|             5.0|         56013.0|\n|            Belarus|1260.9769335142469|          1035.0|        929340.0|\n|            Belgium| 4718.805263157895|          1630.0|       3586292.0|\n|             Belize| 79.76998597475456|            12.0|         56876.0|\n+-------------------+------------------+----------------+----------------+\nonly showing top 20 rows\n\n"
     ]
    }
   ],
   "source": [
    "\n",
    "## Let us get the average and median of new cases and total cases  related to country\n",
    "\n",
    "new_cases_country_wise = df_filtered_1.groupBy(\"location\").agg(\n",
    "    avg(\"new_cases\").alias(\"average_new_Cases\"),\n",
    "    expr(\"percentile_approx(new_cases, 0.5)\").alias(\"medain_new_cases\"),\n",
    "    sum(\"new_cases\").alias(\"sum_of_new_cases\")\n",
    ").orderBy(\"location\")\n",
    "\n",
    "\n",
    "new_cases_country_wise.show()"
   ]
  },
  {
   "cell_type": "code",
   "execution_count": 0,
   "metadata": {
    "application/vnd.databricks.v1+cell": {
     "cellMetadata": {
      "byteLimit": 2048000,
      "rowLimit": 10000
     },
     "inputWidgets": {},
     "nuid": "88887204-a083-4426-8462-9c9a97038b87",
     "showTitle": false,
     "tableResultSettingsMap": {},
     "title": ""
    }
   },
   "outputs": [
    {
     "output_type": "stream",
     "name": "stdout",
     "output_type": "stream",
     "text": [
      "+-------------------+-------------------+------------------+\n|           location|average_total_Cases|medain_total_cases|\n+-------------------+-------------------+------------------+\n|        Afghanistan|  79066.79217273954|           55714.0|\n|            Albania|   97527.1636863824|          112897.0|\n|            Algeria| 112892.52162162162|          113092.0|\n|            Andorra| 10809.235694822888|           10948.0|\n|             Angola| 31095.916201117318|           21265.0|\n|           Anguilla| 391.63700564971754|              21.0|\n|Antigua and Barbuda| 1548.6874135546334|             862.0|\n|          Argentina|  2861118.507503411|         2133963.0|\n|            Armenia| 170162.47755102042|          172816.0|\n|              Aruba|  9608.976486860305|            8177.0|\n|          Australia| 238310.98571428572|           28898.0|\n|            Austria|  537652.1702702703|          459440.0|\n|         Azerbaijan|  264725.0136054422|          235333.0|\n|            Bahamas|  11302.87638888889|            8642.0|\n|            Bahrain| 159132.25101214575|          122394.0|\n|         Bangladesh|   783557.043956044|          549724.0|\n|           Barbados|  8065.108484005564|            3372.0|\n|            Belarus|  311300.3378561737|          289136.0|\n|            Belgium|  866190.4310118265|          746302.0|\n|             Belize| 13969.652173913044|           12370.0|\n+-------------------+-------------------+------------------+\nonly showing top 20 rows\n\n"
     ]
    }
   ],
   "source": [
    "\n",
    "toal_cases_country_wise = df_filtered_1.groupBy(\"location\").agg(\n",
    "    avg(\"total_cases\").alias(\"average_total_Cases\"),\n",
    "    expr(\"percentile_approx(total_cases, 0.5)\").alias(\"medain_total_cases\")\n",
    ").orderBy(\"location\")\n",
    "\n",
    "\n",
    "toal_cases_country_wise.show()"
   ]
  },
  {
   "cell_type": "code",
   "execution_count": 0,
   "metadata": {
    "application/vnd.databricks.v1+cell": {
     "cellMetadata": {
      "byteLimit": 2048000,
      "rowLimit": 10000
     },
     "inputWidgets": {},
     "nuid": "f6b23cbf-2e20-43d3-a1a3-67f1e4652e3c",
     "showTitle": false,
     "tableResultSettingsMap": {},
     "title": ""
    }
   },
   "outputs": [
    {
     "output_type": "stream",
     "name": "stdout",
     "output_type": "stream",
     "text": [
      "+-------------------+------------------+----------------+----------------+-------------------+------------------+\n|           location| average_new_Cases|medain_new_cases|sum_of_new_cases|average_total_Cases|medain_total_cases|\n+-------------------+------------------+----------------+----------------+-------------------+------------------+\n|        Afghanistan|235.91204330175913|            78.0|        174339.0|  79066.79217273954|           55714.0|\n|            Albania| 374.6969696969697|           182.0|        272030.0|   97527.1636863824|          112897.0|\n|            Algeria|358.41486486486485|           235.0|        265227.0| 112892.52162162162|          113092.0|\n|            Andorra| 52.36239782016349|            12.0|         38434.0| 10809.235694822888|           10948.0|\n|             Angola| 137.9832402234637|            71.0|         98796.0| 31095.916201117318|           21265.0|\n|           Anguilla|3.6087570621468927|             0.0|          2555.0| 391.63700564971754|              21.0|\n|Antigua and Barbuda| 10.34257975034674|             0.0|          7457.0| 1548.6874135546334|             862.0|\n|          Argentina|12188.714870395634|          7208.0|       8934328.0|  2861118.507503411|         2133963.0|\n|            Armenia| 573.0965986394558|           339.0|        421226.0| 170162.47755102042|          172816.0|\n|              Aruba|46.655601659751035|            17.0|         33732.0|  9608.976486860305|            8177.0|\n|          Australia| 4415.970052083333|            29.0|       3391465.0| 238310.98571428572|           28898.0|\n|            Austria|3836.8878378378377|          1346.0|       2839297.0|  537652.1702702703|          459440.0|\n|         Azerbaijan|1073.4122448979592|           497.0|        788958.0|  264725.0136054422|          235333.0|\n|            Bahamas| 46.19888734353268|             8.0|         33217.0|  11302.87638888889|            8642.0|\n|            Bahrain| 708.7327935222672|           321.0|        525171.0| 159132.25101214575|          122394.0|\n|         Bangladesh| 2674.089285714286|          1595.0|       1946737.0|   783557.043956044|          549724.0|\n|           Barbados| 77.90403337969401|             5.0|         56013.0|  8065.108484005564|            3372.0|\n|            Belarus|1260.9769335142469|          1035.0|        929340.0|  311300.3378561737|          289136.0|\n|            Belgium| 4718.805263157895|          1630.0|       3586292.0|  866190.4310118265|          746302.0|\n|             Belize| 79.76998597475456|            12.0|         56876.0| 13969.652173913044|           12370.0|\n+-------------------+------------------+----------------+----------------+-------------------+------------------+\nonly showing top 20 rows\n\n"
     ]
    }
   ],
   "source": [
    "#Joining both dataframes\n",
    "country_wise_cases = new_cases_country_wise.join(toal_cases_country_wise, on=\"location\", how=\"left\")\n",
    "\n",
    "country_wise_cases.show()"
   ]
  },
  {
   "cell_type": "code",
   "execution_count": 0,
   "metadata": {
    "application/vnd.databricks.v1+cell": {
     "cellMetadata": {
      "byteLimit": 2048000,
      "rowLimit": 10000
     },
     "inputWidgets": {},
     "nuid": "6f07faa1-edf6-4038-8e73-2cc7bcf4715f",
     "showTitle": false,
     "tableResultSettingsMap": {},
     "title": ""
    }
   },
   "outputs": [],
   "source": [
    "country_wise_cases.write.mode(\"overwrite\") \\\n",
    "    .parquet(\"s3a://dj-databricks-pipeline/country_wise_parquet/\")"
   ]
  }
 ],
 "metadata": {
  "application/vnd.databricks.v1+notebook": {
   "computePreferences": null,
   "dashboards": [],
   "environmentMetadata": {
    "base_environment": "",
    "environment_version": "1"
   },
   "inputWidgetPreferences": null,
   "language": "python",
   "notebookMetadata": {
    "pythonIndentUnit": 4
   },
   "notebookName": "csv_to_parquet_pipeline",
   "widgets": {}
  }
 },
 "nbformat": 4,
 "nbformat_minor": 0
}