{
 "cells": [
  {
   "cell_type": "code",
   "execution_count": 0,
   "metadata": {
    "application/vnd.databricks.v1+cell": {
     "cellMetadata": {
      "byteLimit": 2048000,
      "rowLimit": 10000
     },
     "inputWidgets": {},
     "nuid": "1f22c80f-2ea0-4e76-ad3f-1a326f716844",
     "showTitle": false,
     "tableResultSettingsMap": {},
     "title": ""
    }
   },
   "outputs": [],
   "source": [
    "# Replace these with your actual credentials\n",
    "ACCESS_KEY = \"Access_Key\"\n",
    "SECRET_KEY = \"Secret_Key\"\n",
    "REGION = \"ap-southeast-2\"  # or your actual region\n",
    "\n"
   ]
  },
  {
   "cell_type": "code",
   "execution_count": 0,
   "metadata": {
    "application/vnd.databricks.v1+cell": {
     "cellMetadata": {
      "byteLimit": 2048000,
      "rowLimit": 10000
     },
     "inputWidgets": {},
     "nuid": "916c0c3f-7156-431d-98ca-0d403af23d78",
     "showTitle": false,
     "tableResultSettingsMap": {},
     "title": ""
    }
   },
   "outputs": [],
   "source": [
    "# Configure S3 access\n",
    "spark._jsc.hadoopConfiguration().set(\"fs.s3a.access.key\", ACCESS_KEY)\n",
    "spark._jsc.hadoopConfiguration().set(\"fs.s3a.secret.key\", SECRET_KEY)\n",
    "spark._jsc.hadoopConfiguration().set(\"fs.s3a.endpoint\", f\"s3.{REGION}.amazonaws.com\")"
   ]
  },
  {
   "cell_type": "code",
   "execution_count": 0,
   "metadata": {
    "application/vnd.databricks.v1+cell": {
     "cellMetadata": {
      "byteLimit": 2048000,
      "rowLimit": 10000
     },
     "inputWidgets": {},
     "nuid": "ffb10bee-9ed2-4398-a419-bd17d40b7a86",
     "showTitle": false,
     "tableResultSettingsMap": {},
     "title": ""
    }
   },
   "outputs": [
    {
     "output_type": "stream",
     "name": "stdout",
     "output_type": "stream",
     "text": [
      "+--------+---------+-----------+----------+-----------+---------+------------------+------------+----------+-------------------+-----------------------+---------------------+------------------------------+------------------------+----------------------+-------------------------------+-----------------+------------+------------------------+-------------+-------------------------+---------------------+---------------------------------+----------------------+----------------------------------+---------+-----------+------------------------+----------------------+------------------+-------------------------------+-------------+--------------+-----------+------------------+-----------------+-----------------------+--------------+----------------+-------------------------+------------------------------+-----------------------------+-----------------------------------+--------------------------+-------------------------------------+------------------------------+------------------------------------------+----------------+-----------+------------------+----------+-------------+-------------+--------------+---------------+---------------------+-------------------+--------------+------------+----------------------+--------------------------+---------------+-----------------------+------------------------------------+---------------------------+----------------+---------------------------------------+\n|iso_code|continent|   location|      date|total_cases|new_cases|new_cases_smoothed|total_deaths|new_deaths|new_deaths_smoothed|total_cases_per_million|new_cases_per_million|new_cases_smoothed_per_million|total_deaths_per_million|new_deaths_per_million|new_deaths_smoothed_per_million|reproduction_rate|icu_patients|icu_patients_per_million|hosp_patients|hosp_patients_per_million|weekly_icu_admissions|weekly_icu_admissions_per_million|weekly_hosp_admissions|weekly_hosp_admissions_per_million|new_tests|total_tests|total_tests_per_thousand|new_tests_per_thousand|new_tests_smoothed|new_tests_smoothed_per_thousand|positive_rate|tests_per_case|tests_units|total_vaccinations|people_vaccinated|people_fully_vaccinated|total_boosters|new_vaccinations|new_vaccinations_smoothed|total_vaccinations_per_hundred|people_vaccinated_per_hundred|people_fully_vaccinated_per_hundred|total_boosters_per_hundred|new_vaccinations_smoothed_per_million|new_people_vaccinated_smoothed|new_people_vaccinated_smoothed_per_hundred|stringency_index| population|population_density|median_age|aged_65_older|aged_70_older|gdp_per_capita|extreme_poverty|cardiovasc_death_rate|diabetes_prevalence|female_smokers|male_smokers|handwashing_facilities|hospital_beds_per_thousand|life_expectancy|human_development_index|excess_mortality_cumulative_absolute|excess_mortality_cumulative|excess_mortality|excess_mortality_cumulative_per_million|\n+--------+---------+-----------+----------+-----------+---------+------------------+------------+----------+-------------------+-----------------------+---------------------+------------------------------+------------------------+----------------------+-------------------------------+-----------------+------------+------------------------+-------------+-------------------------+---------------------+---------------------------------+----------------------+----------------------------------+---------+-----------+------------------------+----------------------+------------------+-------------------------------+-------------+--------------+-----------+------------------+-----------------+-----------------------+--------------+----------------+-------------------------+------------------------------+-----------------------------+-----------------------------------+--------------------------+-------------------------------------+------------------------------+------------------------------------------+----------------+-----------+------------------+----------+-------------+-------------+--------------+---------------+---------------------+-------------------+--------------+------------+----------------------+--------------------------+---------------+-----------------------+------------------------------------+---------------------------+----------------+---------------------------------------+\n|     AFG|     Asia|Afghanistan|2020-02-24|        5.0|      5.0|              null|        null|      null|               null|                  0.126|                0.126|                          null|                    null|                  null|                           null|             null|        null|                    null|         null|                     null|                 null|                             null|                  null|                              null|     null|       null|                    null|                  null|              null|                           null|         null|          null|       null|              null|             null|                   null|          null|            null|                     null|                          null|                         null|                               null|                      null|                                 null|                          null|                                      null|            8.33|3.9835428E7|            54.422|      18.6|        2.581|        1.337|      1803.987|           null|              597.029|               9.59|          null|        null|                37.746|                       0.5|          64.83|                  0.511|                                null|                       null|            null|                                   null|\n|     AFG|     Asia|Afghanistan|2020-02-25|        5.0|      0.0|              null|        null|      null|               null|                  0.126|                  0.0|                          null|                    null|                  null|                           null|             null|        null|                    null|         null|                     null|                 null|                             null|                  null|                              null|     null|       null|                    null|                  null|              null|                           null|         null|          null|       null|              null|             null|                   null|          null|            null|                     null|                          null|                         null|                               null|                      null|                                 null|                          null|                                      null|            8.33|3.9835428E7|            54.422|      18.6|        2.581|        1.337|      1803.987|           null|              597.029|               9.59|          null|        null|                37.746|                       0.5|          64.83|                  0.511|                                null|                       null|            null|                                   null|\n|     AFG|     Asia|Afghanistan|2020-02-26|        5.0|      0.0|              null|        null|      null|               null|                  0.126|                  0.0|                          null|                    null|                  null|                           null|             null|        null|                    null|         null|                     null|                 null|                             null|                  null|                              null|     null|       null|                    null|                  null|              null|                           null|         null|          null|       null|              null|             null|                   null|          null|            null|                     null|                          null|                         null|                               null|                      null|                                 null|                          null|                                      null|            8.33|3.9835428E7|            54.422|      18.6|        2.581|        1.337|      1803.987|           null|              597.029|               9.59|          null|        null|                37.746|                       0.5|          64.83|                  0.511|                                null|                       null|            null|                                   null|\n|     AFG|     Asia|Afghanistan|2020-02-27|        5.0|      0.0|              null|        null|      null|               null|                  0.126|                  0.0|                          null|                    null|                  null|                           null|             null|        null|                    null|         null|                     null|                 null|                             null|                  null|                              null|     null|       null|                    null|                  null|              null|                           null|         null|          null|       null|              null|             null|                   null|          null|            null|                     null|                          null|                         null|                               null|                      null|                                 null|                          null|                                      null|            8.33|3.9835428E7|            54.422|      18.6|        2.581|        1.337|      1803.987|           null|              597.029|               9.59|          null|        null|                37.746|                       0.5|          64.83|                  0.511|                                null|                       null|            null|                                   null|\n|     AFG|     Asia|Afghanistan|2020-02-28|        5.0|      0.0|              null|        null|      null|               null|                  0.126|                  0.0|                          null|                    null|                  null|                           null|             null|        null|                    null|         null|                     null|                 null|                             null|                  null|                              null|     null|       null|                    null|                  null|              null|                           null|         null|          null|       null|              null|             null|                   null|          null|            null|                     null|                          null|                         null|                               null|                      null|                                 null|                          null|                                      null|            8.33|3.9835428E7|            54.422|      18.6|        2.581|        1.337|      1803.987|           null|              597.029|               9.59|          null|        null|                37.746|                       0.5|          64.83|                  0.511|                                null|                       null|            null|                                   null|\n+--------+---------+-----------+----------+-----------+---------+------------------+------------+----------+-------------------+-----------------------+---------------------+------------------------------+------------------------+----------------------+-------------------------------+-----------------+------------+------------------------+-------------+-------------------------+---------------------+---------------------------------+----------------------+----------------------------------+---------+-----------+------------------------+----------------------+------------------+-------------------------------+-------------+--------------+-----------+------------------+-----------------+-----------------------+--------------+----------------+-------------------------+------------------------------+-----------------------------+-----------------------------------+--------------------------+-------------------------------------+------------------------------+------------------------------------------+----------------+-----------+------------------+----------+-------------+-------------+--------------+---------------+---------------------+-------------------+--------------+------------+----------------------+--------------------------+---------------+-----------------------+------------------------------------+---------------------------+----------------+---------------------------------------+\nonly showing top 5 rows\n\nroot\n |-- iso_code: string (nullable = true)\n |-- continent: string (nullable = true)\n |-- location: string (nullable = true)\n |-- date: date (nullable = true)\n |-- total_cases: double (nullable = true)\n |-- new_cases: double (nullable = true)\n |-- new_cases_smoothed: double (nullable = true)\n |-- total_deaths: double (nullable = true)\n |-- new_deaths: double (nullable = true)\n |-- new_deaths_smoothed: double (nullable = true)\n |-- total_cases_per_million: double (nullable = true)\n |-- new_cases_per_million: double (nullable = true)\n |-- new_cases_smoothed_per_million: double (nullable = true)\n |-- total_deaths_per_million: double (nullable = true)\n |-- new_deaths_per_million: double (nullable = true)\n |-- new_deaths_smoothed_per_million: double (nullable = true)\n |-- reproduction_rate: double (nullable = true)\n |-- icu_patients: double (nullable = true)\n |-- icu_patients_per_million: double (nullable = true)\n |-- hosp_patients: double (nullable = true)\n |-- hosp_patients_per_million: double (nullable = true)\n |-- weekly_icu_admissions: double (nullable = true)\n |-- weekly_icu_admissions_per_million: double (nullable = true)\n |-- weekly_hosp_admissions: double (nullable = true)\n |-- weekly_hosp_admissions_per_million: double (nullable = true)\n |-- new_tests: double (nullable = true)\n |-- total_tests: double (nullable = true)\n |-- total_tests_per_thousand: double (nullable = true)\n |-- new_tests_per_thousand: double (nullable = true)\n |-- new_tests_smoothed: double (nullable = true)\n |-- new_tests_smoothed_per_thousand: double (nullable = true)\n |-- positive_rate: double (nullable = true)\n |-- tests_per_case: double (nullable = true)\n |-- tests_units: string (nullable = true)\n |-- total_vaccinations: double (nullable = true)\n |-- people_vaccinated: double (nullable = true)\n |-- people_fully_vaccinated: double (nullable = true)\n |-- total_boosters: double (nullable = true)\n |-- new_vaccinations: double (nullable = true)\n |-- new_vaccinations_smoothed: double (nullable = true)\n |-- total_vaccinations_per_hundred: double (nullable = true)\n |-- people_vaccinated_per_hundred: double (nullable = true)\n |-- people_fully_vaccinated_per_hundred: double (nullable = true)\n |-- total_boosters_per_hundred: double (nullable = true)\n |-- new_vaccinations_smoothed_per_million: double (nullable = true)\n |-- new_people_vaccinated_smoothed: double (nullable = true)\n |-- new_people_vaccinated_smoothed_per_hundred: double (nullable = true)\n |-- stringency_index: double (nullable = true)\n |-- population: double (nullable = true)\n |-- population_density: double (nullable = true)\n |-- median_age: double (nullable = true)\n |-- aged_65_older: double (nullable = true)\n |-- aged_70_older: double (nullable = true)\n |-- gdp_per_capita: double (nullable = true)\n |-- extreme_poverty: double (nullable = true)\n |-- cardiovasc_death_rate: double (nullable = true)\n |-- diabetes_prevalence: double (nullable = true)\n |-- female_smokers: double (nullable = true)\n |-- male_smokers: double (nullable = true)\n |-- handwashing_facilities: double (nullable = true)\n |-- hospital_beds_per_thousand: double (nullable = true)\n |-- life_expectancy: double (nullable = true)\n |-- human_development_index: double (nullable = true)\n |-- excess_mortality_cumulative_absolute: double (nullable = true)\n |-- excess_mortality_cumulative: double (nullable = true)\n |-- excess_mortality: double (nullable = true)\n |-- excess_mortality_cumulative_per_million: double (nullable = true)\n\n"
     ]
    }
   ],
   "source": [
    "csv_path = \"s3a://dj-databricks-pipeline/owid-covid-data.csv\"\n",
    "\n",
    "df = spark.read.option(\"header\", True).option(\"inferSchema\", True).csv(csv_path)\n",
    "\n",
    "df.show(5)\n",
    "df.printSchema()\n"
   ]
  },
  {
   "cell_type": "code",
   "execution_count": 0,
   "metadata": {
    "application/vnd.databricks.v1+cell": {
     "cellMetadata": {
      "byteLimit": 2048000,
      "rowLimit": 10000
     },
     "inputWidgets": {},
     "nuid": "2cd30651-55c6-4108-8921-197cef37f1b4",
     "showTitle": false,
     "tableResultSettingsMap": {},
     "title": ""
    }
   },
   "outputs": [
    {
     "output_type": "display_data",
     "data": {
      "text/html": [
       "<style scoped>\n",
       "  .table-result-container {\n",
       "    max-height: 300px;\n",
       "    overflow: auto;\n",
       "  }\n",
       "  table, th, td {\n",
       "    border: 1px solid black;\n",
       "    border-collapse: collapse;\n",
       "  }\n",
       "  th, td {\n",
       "    padding: 5px;\n",
       "  }\n",
       "  th {\n",
       "    text-align: left;\n",
       "  }\n",
       "</style><div class='table-result-container'><table class='table-result'><thead style='background-color: white'><tr><th>iso_code</th><th>continent</th><th>location</th><th>date</th><th>total_cases</th><th>new_cases</th><th>new_cases_smoothed</th><th>total_deaths</th><th>new_deaths</th><th>new_deaths_smoothed</th><th>total_cases_per_million</th><th>new_cases_per_million</th><th>new_cases_smoothed_per_million</th><th>total_deaths_per_million</th><th>new_deaths_per_million</th><th>new_deaths_smoothed_per_million</th><th>reproduction_rate</th><th>icu_patients</th><th>icu_patients_per_million</th><th>hosp_patients</th><th>hosp_patients_per_million</th><th>weekly_icu_admissions</th><th>weekly_icu_admissions_per_million</th><th>weekly_hosp_admissions</th><th>weekly_hosp_admissions_per_million</th><th>new_tests</th><th>total_tests</th><th>total_tests_per_thousand</th><th>new_tests_per_thousand</th><th>new_tests_smoothed</th><th>new_tests_smoothed_per_thousand</th><th>positive_rate</th><th>tests_per_case</th><th>tests_units</th><th>total_vaccinations</th><th>people_vaccinated</th><th>people_fully_vaccinated</th><th>total_boosters</th><th>new_vaccinations</th><th>new_vaccinations_smoothed</th><th>total_vaccinations_per_hundred</th><th>people_vaccinated_per_hundred</th><th>people_fully_vaccinated_per_hundred</th><th>total_boosters_per_hundred</th><th>new_vaccinations_smoothed_per_million</th><th>new_people_vaccinated_smoothed</th><th>new_people_vaccinated_smoothed_per_hundred</th><th>stringency_index</th><th>population</th><th>population_density</th><th>median_age</th><th>aged_65_older</th><th>aged_70_older</th><th>gdp_per_capita</th><th>extreme_poverty</th><th>cardiovasc_death_rate</th><th>diabetes_prevalence</th><th>female_smokers</th><th>male_smokers</th><th>handwashing_facilities</th><th>hospital_beds_per_thousand</th><th>life_expectancy</th><th>human_development_index</th><th>excess_mortality_cumulative_absolute</th><th>excess_mortality_cumulative</th><th>excess_mortality</th><th>excess_mortality_cumulative_per_million</th></tr></thead><tbody><tr><td>AFG</td><td>Asia</td><td>Afghanistan</td><td>2020-02-24</td><td>5.0</td><td>5.0</td><td>null</td><td>null</td><td>null</td><td>null</td><td>0.126</td><td>0.126</td><td>null</td><td>null</td><td>null</td><td>null</td><td>null</td><td>null</td><td>null</td><td>null</td><td>null</td><td>null</td><td>null</td><td>null</td><td>null</td><td>null</td><td>null</td><td>null</td><td>null</td><td>null</td><td>null</td><td>null</td><td>null</td><td>null</td><td>null</td><td>null</td><td>null</td><td>null</td><td>null</td><td>null</td><td>null</td><td>null</td><td>null</td><td>null</td><td>null</td><td>null</td><td>null</td><td>8.33</td><td>3.9835428E7</td><td>54.422</td><td>18.6</td><td>2.581</td><td>1.337</td><td>1803.987</td><td>null</td><td>597.029</td><td>9.59</td><td>null</td><td>null</td><td>37.746</td><td>0.5</td><td>64.83</td><td>0.511</td><td>null</td><td>null</td><td>null</td><td>null</td></tr><tr><td>AFG</td><td>Asia</td><td>Afghanistan</td><td>2020-02-25</td><td>5.0</td><td>0.0</td><td>null</td><td>null</td><td>null</td><td>null</td><td>0.126</td><td>0.0</td><td>null</td><td>null</td><td>null</td><td>null</td><td>null</td><td>null</td><td>null</td><td>null</td><td>null</td><td>null</td><td>null</td><td>null</td><td>null</td><td>null</td><td>null</td><td>null</td><td>null</td><td>null</td><td>null</td><td>null</td><td>null</td><td>null</td><td>null</td><td>null</td><td>null</td><td>null</td><td>null</td><td>null</td><td>null</td><td>null</td><td>null</td><td>null</td><td>null</td><td>null</td><td>null</td><td>8.33</td><td>3.9835428E7</td><td>54.422</td><td>18.6</td><td>2.581</td><td>1.337</td><td>1803.987</td><td>null</td><td>597.029</td><td>9.59</td><td>null</td><td>null</td><td>37.746</td><td>0.5</td><td>64.83</td><td>0.511</td><td>null</td><td>null</td><td>null</td><td>null</td></tr><tr><td>AFG</td><td>Asia</td><td>Afghanistan</td><td>2020-02-26</td><td>5.0</td><td>0.0</td><td>null</td><td>null</td><td>null</td><td>null</td><td>0.126</td><td>0.0</td><td>null</td><td>null</td><td>null</td><td>null</td><td>null</td><td>null</td><td>null</td><td>null</td><td>null</td><td>null</td><td>null</td><td>null</td><td>null</td><td>null</td><td>null</td><td>null</td><td>null</td><td>null</td><td>null</td><td>null</td><td>null</td><td>null</td><td>null</td><td>null</td><td>null</td><td>null</td><td>null</td><td>null</td><td>null</td><td>null</td><td>null</td><td>null</td><td>null</td><td>null</td><td>null</td><td>8.33</td><td>3.9835428E7</td><td>54.422</td><td>18.6</td><td>2.581</td><td>1.337</td><td>1803.987</td><td>null</td><td>597.029</td><td>9.59</td><td>null</td><td>null</td><td>37.746</td><td>0.5</td><td>64.83</td><td>0.511</td><td>null</td><td>null</td><td>null</td><td>null</td></tr><tr><td>AFG</td><td>Asia</td><td>Afghanistan</td><td>2020-02-27</td><td>5.0</td><td>0.0</td><td>null</td><td>null</td><td>null</td><td>null</td><td>0.126</td><td>0.0</td><td>null</td><td>null</td><td>null</td><td>null</td><td>null</td><td>null</td><td>null</td><td>null</td><td>null</td><td>null</td><td>null</td><td>null</td><td>null</td><td>null</td><td>null</td><td>null</td><td>null</td><td>null</td><td>null</td><td>null</td><td>null</td><td>null</td><td>null</td><td>null</td><td>null</td><td>null</td><td>null</td><td>null</td><td>null</td><td>null</td><td>null</td><td>null</td><td>null</td><td>null</td><td>null</td><td>8.33</td><td>3.9835428E7</td><td>54.422</td><td>18.6</td><td>2.581</td><td>1.337</td><td>1803.987</td><td>null</td><td>597.029</td><td>9.59</td><td>null</td><td>null</td><td>37.746</td><td>0.5</td><td>64.83</td><td>0.511</td><td>null</td><td>null</td><td>null</td><td>null</td></tr><tr><td>AFG</td><td>Asia</td><td>Afghanistan</td><td>2020-02-28</td><td>5.0</td><td>0.0</td><td>null</td><td>null</td><td>null</td><td>null</td><td>0.126</td><td>0.0</td><td>null</td><td>null</td><td>null</td><td>null</td><td>null</td><td>null</td><td>null</td><td>null</td><td>null</td><td>null</td><td>null</td><td>null</td><td>null</td><td>null</td><td>null</td><td>null</td><td>null</td><td>null</td><td>null</td><td>null</td><td>null</td><td>null</td><td>null</td><td>null</td><td>null</td><td>null</td><td>null</td><td>null</td><td>null</td><td>null</td><td>null</td><td>null</td><td>null</td><td>null</td><td>null</td><td>8.33</td><td>3.9835428E7</td><td>54.422</td><td>18.6</td><td>2.581</td><td>1.337</td><td>1803.987</td><td>null</td><td>597.029</td><td>9.59</td><td>null</td><td>null</td><td>37.746</td><td>0.5</td><td>64.83</td><td>0.511</td><td>null</td><td>null</td><td>null</td><td>null</td></tr></tbody></table></div>"
      ]
     },
     "metadata": {
      "application/vnd.databricks.v1+output": {
       "addedWidgets": {},
       "aggData": [],
       "aggError": "",
       "aggOverflow": false,
       "aggSchema": [],
       "aggSeriesLimitReached": false,
       "aggType": "",
       "arguments": {},
       "columnCustomDisplayInfos": {},
       "data": [
        [
         "AFG",
         "Asia",
         "Afghanistan",
         "2020-02-24",
         5.0,
         5.0,
         null,
         null,
         null,
         null,
         0.126,
         0.126,
         null,
         null,
         null,
         null,
         null,
         null,
         null,
         null,
         null,
         null,
         null,
         null,
         null,
         null,
         null,
         null,
         null,
         null,
         null,
         null,
         null,
         null,
         null,
         null,
         null,
         null,
         null,
         null,
         null,
         null,
         null,
         null,
         null,
         null,
         null,
         8.33,
         3.9835428E7,
         54.422,
         18.6,
         2.581,
         1.337,
         1803.987,
         null,
         597.029,
         9.59,
         null,
         null,
         37.746,
         0.5,
         64.83,
         0.511,
         null,
         null,
         null,
         null
        ],
        [
         "AFG",
         "Asia",
         "Afghanistan",
         "2020-02-25",
         5.0,
         0.0,
         null,
         null,
         null,
         null,
         0.126,
         0.0,
         null,
         null,
         null,
         null,
         null,
         null,
         null,
         null,
         null,
         null,
         null,
         null,
         null,
         null,
         null,
         null,
         null,
         null,
         null,
         null,
         null,
         null,
         null,
         null,
         null,
         null,
         null,
         null,
         null,
         null,
         null,
         null,
         null,
         null,
         null,
         8.33,
         3.9835428E7,
         54.422,
         18.6,
         2.581,
         1.337,
         1803.987,
         null,
         597.029,
         9.59,
         null,
         null,
         37.746,
         0.5,
         64.83,
         0.511,
         null,
         null,
         null,
         null
        ],
        [
         "AFG",
         "Asia",
         "Afghanistan",
         "2020-02-26",
         5.0,
         0.0,
         null,
         null,
         null,
         null,
         0.126,
         0.0,
         null,
         null,
         null,
         null,
         null,
         null,
         null,
         null,
         null,
         null,
         null,
         null,
         null,
         null,
         null,
         null,
         null,
         null,
         null,
         null,
         null,
         null,
         null,
         null,
         null,
         null,
         null,
         null,
         null,
         null,
         null,
         null,
         null,
         null,
         null,
         8.33,
         3.9835428E7,
         54.422,
         18.6,
         2.581,
         1.337,
         1803.987,
         null,
         597.029,
         9.59,
         null,
         null,
         37.746,
         0.5,
         64.83,
         0.511,
         null,
         null,
         null,
         null
        ],
        [
         "AFG",
         "Asia",
         "Afghanistan",
         "2020-02-27",
         5.0,
         0.0,
         null,
         null,
         null,
         null,
         0.126,
         0.0,
         null,
         null,
         null,
         null,
         null,
         null,
         null,
         null,
         null,
         null,
         null,
         null,
         null,
         null,
         null,
         null,
         null,
         null,
         null,
         null,
         null,
         null,
         null,
         null,
         null,
         null,
         null,
         null,
         null,
         null,
         null,
         null,
         null,
         null,
         null,
         8.33,
         3.9835428E7,
         54.422,
         18.6,
         2.581,
         1.337,
         1803.987,
         null,
         597.029,
         9.59,
         null,
         null,
         37.746,
         0.5,
         64.83,
         0.511,
         null,
         null,
         null,
         null
        ],
        [
         "AFG",
         "Asia",
         "Afghanistan",
         "2020-02-28",
         5.0,
         0.0,
         null,
         null,
         null,
         null,
         0.126,
         0.0,
         null,
         null,
         null,
         null,
         null,
         null,
         null,
         null,
         null,
         null,
         null,
         null,
         null,
         null,
         null,
         null,
         null,
         null,
         null,
         null,
         null,
         null,
         null,
         null,
         null,
         null,
         null,
         null,
         null,
         null,
         null,
         null,
         null,
         null,
         null,
         8.33,
         3.9835428E7,
         54.422,
         18.6,
         2.581,
         1.337,
         1803.987,
         null,
         597.029,
         9.59,
         null,
         null,
         37.746,
         0.5,
         64.83,
         0.511,
         null,
         null,
         null,
         null
        ]
       ],
       "datasetInfos": [],
       "dbfsResultPath": null,
       "isJsonSchema": true,
       "metadata": {},
       "overflow": false,
       "plotOptions": {
        "customPlotOptions": {},
        "displayType": "table",
        "pivotAggregation": null,
        "pivotColumns": null,
        "xColumns": null,
        "yColumns": null
       },
       "removedWidgets": [],
       "schema": [
        {
         "metadata": "{}",
         "name": "iso_code",
         "type": "\"string\""
        },
        {
         "metadata": "{}",
         "name": "continent",
         "type": "\"string\""
        },
        {
         "metadata": "{}",
         "name": "location",
         "type": "\"string\""
        },
        {
         "metadata": "{}",
         "name": "date",
         "type": "\"date\""
        },
        {
         "metadata": "{}",
         "name": "total_cases",
         "type": "\"double\""
        },
        {
         "metadata": "{}",
         "name": "new_cases",
         "type": "\"double\""
        },
        {
         "metadata": "{}",
         "name": "new_cases_smoothed",
         "type": "\"double\""
        },
        {
         "metadata": "{}",
         "name": "total_deaths",
         "type": "\"double\""
        },
        {
         "metadata": "{}",
         "name": "new_deaths",
         "type": "\"double\""
        },
        {
         "metadata": "{}",
         "name": "new_deaths_smoothed",
         "type": "\"double\""
        },
        {
         "metadata": "{}",
         "name": "total_cases_per_million",
         "type": "\"double\""
        },
        {
         "metadata": "{}",
         "name": "new_cases_per_million",
         "type": "\"double\""
        },
        {
         "metadata": "{}",
         "name": "new_cases_smoothed_per_million",
         "type": "\"double\""
        },
        {
         "metadata": "{}",
         "name": "total_deaths_per_million",
         "type": "\"double\""
        },
        {
         "metadata": "{}",
         "name": "new_deaths_per_million",
         "type": "\"double\""
        },
        {
         "metadata": "{}",
         "name": "new_deaths_smoothed_per_million",
         "type": "\"double\""
        },
        {
         "metadata": "{}",
         "name": "reproduction_rate",
         "type": "\"double\""
        },
        {
         "metadata": "{}",
         "name": "icu_patients",
         "type": "\"double\""
        },
        {
         "metadata": "{}",
         "name": "icu_patients_per_million",
         "type": "\"double\""
        },
        {
         "metadata": "{}",
         "name": "hosp_patients",
         "type": "\"double\""
        },
        {
         "metadata": "{}",
         "name": "hosp_patients_per_million",
         "type": "\"double\""
        },
        {
         "metadata": "{}",
         "name": "weekly_icu_admissions",
         "type": "\"double\""
        },
        {
         "metadata": "{}",
         "name": "weekly_icu_admissions_per_million",
         "type": "\"double\""
        },
        {
         "metadata": "{}",
         "name": "weekly_hosp_admissions",
         "type": "\"double\""
        },
        {
         "metadata": "{}",
         "name": "weekly_hosp_admissions_per_million",
         "type": "\"double\""
        },
        {
         "metadata": "{}",
         "name": "new_tests",
         "type": "\"double\""
        },
        {
         "metadata": "{}",
         "name": "total_tests",
         "type": "\"double\""
        },
        {
         "metadata": "{}",
         "name": "total_tests_per_thousand",
         "type": "\"double\""
        },
        {
         "metadata": "{}",
         "name": "new_tests_per_thousand",
         "type": "\"double\""
        },
        {
         "metadata": "{}",
         "name": "new_tests_smoothed",
         "type": "\"double\""
        },
        {
         "metadata": "{}",
         "name": "new_tests_smoothed_per_thousand",
         "type": "\"double\""
        },
        {
         "metadata": "{}",
         "name": "positive_rate",
         "type": "\"double\""
        },
        {
         "metadata": "{}",
         "name": "tests_per_case",
         "type": "\"double\""
        },
        {
         "metadata": "{}",
         "name": "tests_units",
         "type": "\"void\""
        },
        {
         "metadata": "{}",
         "name": "total_vaccinations",
         "type": "\"double\""
        },
        {
         "metadata": "{}",
         "name": "people_vaccinated",
         "type": "\"double\""
        },
        {
         "metadata": "{}",
         "name": "people_fully_vaccinated",
         "type": "\"double\""
        },
        {
         "metadata": "{}",
         "name": "total_boosters",
         "type": "\"double\""
        },
        {
         "metadata": "{}",
         "name": "new_vaccinations",
         "type": "\"double\""
        },
        {
         "metadata": "{}",
         "name": "new_vaccinations_smoothed",
         "type": "\"double\""
        },
        {
         "metadata": "{}",
         "name": "total_vaccinations_per_hundred",
         "type": "\"double\""
        },
        {
         "metadata": "{}",
         "name": "people_vaccinated_per_hundred",
         "type": "\"double\""
        },
        {
         "metadata": "{}",
         "name": "people_fully_vaccinated_per_hundred",
         "type": "\"double\""
        },
        {
         "metadata": "{}",
         "name": "total_boosters_per_hundred",
         "type": "\"double\""
        },
        {
         "metadata": "{}",
         "name": "new_vaccinations_smoothed_per_million",
         "type": "\"double\""
        },
        {
         "metadata": "{}",
         "name": "new_people_vaccinated_smoothed",
         "type": "\"double\""
        },
        {
         "metadata": "{}",
         "name": "new_people_vaccinated_smoothed_per_hundred",
         "type": "\"double\""
        },
        {
         "metadata": "{}",
         "name": "stringency_index",
         "type": "\"double\""
        },
        {
         "metadata": "{}",
         "name": "population",
         "type": "\"double\""
        },
        {
         "metadata": "{}",
         "name": "population_density",
         "type": "\"double\""
        },
        {
         "metadata": "{}",
         "name": "median_age",
         "type": "\"double\""
        },
        {
         "metadata": "{}",
         "name": "aged_65_older",
         "type": "\"double\""
        },
        {
         "metadata": "{}",
         "name": "aged_70_older",
         "type": "\"double\""
        },
        {
         "metadata": "{}",
         "name": "gdp_per_capita",
         "type": "\"double\""
        },
        {
         "metadata": "{}",
         "name": "extreme_poverty",
         "type": "\"double\""
        },
        {
         "metadata": "{}",
         "name": "cardiovasc_death_rate",
         "type": "\"double\""
        },
        {
         "metadata": "{}",
         "name": "diabetes_prevalence",
         "type": "\"double\""
        },
        {
         "metadata": "{}",
         "name": "female_smokers",
         "type": "\"double\""
        },
        {
         "metadata": "{}",
         "name": "male_smokers",
         "type": "\"double\""
        },
        {
         "metadata": "{}",
         "name": "handwashing_facilities",
         "type": "\"double\""
        },
        {
         "metadata": "{}",
         "name": "hospital_beds_per_thousand",
         "type": "\"double\""
        },
        {
         "metadata": "{}",
         "name": "life_expectancy",
         "type": "\"double\""
        },
        {
         "metadata": "{}",
         "name": "human_development_index",
         "type": "\"double\""
        },
        {
         "metadata": "{}",
         "name": "excess_mortality_cumulative_absolute",
         "type": "\"double\""
        },
        {
         "metadata": "{}",
         "name": "excess_mortality_cumulative",
         "type": "\"double\""
        },
        {
         "metadata": "{}",
         "name": "excess_mortality",
         "type": "\"double\""
        },
        {
         "metadata": "{}",
         "name": "excess_mortality_cumulative_per_million",
         "type": "\"double\""
        }
       ],
       "type": "table"
      }
     },
     "output_type": "display_data"
    }
   ],
   "source": [
    "display(df.limit(5).toPandas()) #Since we are not able to read the data properly above now we will use toPandas functions to see the Data"
   ]
  },
  {
   "cell_type": "code",
   "execution_count": 0,
   "metadata": {
    "application/vnd.databricks.v1+cell": {
     "cellMetadata": {
      "byteLimit": 2048000,
      "rowLimit": 10000
     },
     "inputWidgets": {},
     "nuid": "6cdd97b3-70f0-4af7-be8a-f23760a70ad7",
     "showTitle": false,
     "tableResultSettingsMap": {},
     "title": ""
    }
   },
   "outputs": [
    {
     "output_type": "stream",
     "name": "stdout",
     "output_type": "stream",
     "text": [
      "Out[8]: 238"
     ]
    }
   ],
   "source": [
    "df.select(\"iso_code\").distinct().count() #Let us check the count of all unique values present in the iso_code"
   ]
  },
  {
   "cell_type": "code",
   "execution_count": 0,
   "metadata": {
    "application/vnd.databricks.v1+cell": {
     "cellMetadata": {
      "byteLimit": 2048000,
      "rowLimit": 10000
     },
     "inputWidgets": {},
     "nuid": "31f28ac6-1267-48e7-b26a-7142649cca3b",
     "showTitle": false,
     "tableResultSettingsMap": {},
     "title": ""
    }
   },
   "outputs": [
    {
     "output_type": "stream",
     "name": "stdout",
     "output_type": "stream",
     "text": [
      "+--------+-----+\n|iso_code|count|\n+--------+-----+\n|     BRB|  719|\n|     BRA|  739|\n|     ARM|  762|\n|     ABW|  723|\n|     BRN|  727|\n|     BOL|  725|\n|     ATG|  723|\n|OWID_AFR|  752|\n|     BHS|  720|\n|     BMU|  717|\n|     AZE|  735|\n|     AUS|  770|\n|     AFG|  741|\n|     BGD|  733|\n|     BLR|  737|\n|     BWA|  706|\n|     ALB|  740|\n|     BHR|  741|\n|     BIH|  731|\n|     AND|  734|\n+--------+-----+\nonly showing top 20 rows\n\n"
     ]
    }
   ],
   "source": [
    "df.groupBy(\"iso_code\").count().show() #TWe will be seeing the count of each country."
   ]
  },
  {
   "cell_type": "code",
   "execution_count": 0,
   "metadata": {
    "application/vnd.databricks.v1+cell": {
     "cellMetadata": {
      "byteLimit": 2048000,
      "rowLimit": 10000
     },
     "inputWidgets": {},
     "nuid": "bdf829d6-f82c-4d58-bc32-120741dc11dc",
     "showTitle": false,
     "tableResultSettingsMap": {},
     "title": ""
    }
   },
   "outputs": [
    {
     "output_type": "stream",
     "name": "stdout",
     "output_type": "stream",
     "text": [
      "Out[13]: 7"
     ]
    }
   ],
   "source": [
    "#LEt us see the count of the continents\n",
    "\n",
    "df.select(\"continent\").distinct().count()"
   ]
  },
  {
   "cell_type": "markdown",
   "metadata": {
    "application/vnd.databricks.v1+cell": {
     "cellMetadata": {},
     "inputWidgets": {},
     "nuid": "bf0ef09c-14ac-490c-a66d-8e15631e9fbf",
     "showTitle": false,
     "tableResultSettingsMap": {},
     "title": ""
    }
   },
   "source": [
    "We do have the data for all the 7 continents."
   ]
  },
  {
   "cell_type": "code",
   "execution_count": 0,
   "metadata": {
    "application/vnd.databricks.v1+cell": {
     "cellMetadata": {
      "byteLimit": 2048000,
      "rowLimit": 10000
     },
     "inputWidgets": {},
     "nuid": "ef84a089-bf99-46f8-8384-887c4f193c32",
     "showTitle": false,
     "tableResultSettingsMap": {},
     "title": ""
    }
   },
   "outputs": [
    {
     "output_type": "stream",
     "name": "stdout",
     "output_type": "stream",
     "text": [
      "+-------------+-----+\n|    continent|count|\n+-------------+-----+\n|       Europe|37088|\n|       Africa|39417|\n|         null| 9956|\n|North America|24931|\n|South America| 9517|\n|      Oceania| 9217|\n|         Asia|36200|\n+-------------+-----+\n\n"
     ]
    }
   ],
   "source": [
    "#Now let us see the count of each continents - how many values are there for each of them.\n",
    "\n",
    "df.groupBy(\"continent\").count().show()"
   ]
  },
  {
   "cell_type": "code",
   "execution_count": 0,
   "metadata": {
    "application/vnd.databricks.v1+cell": {
     "cellMetadata": {
      "byteLimit": 2048000,
      "rowLimit": 10000
     },
     "inputWidgets": {},
     "nuid": "8332546d-b409-4ac6-90a0-17a4ad6d9b5f",
     "showTitle": false,
     "tableResultSettingsMap": {},
     "title": ""
    }
   },
   "outputs": [
    {
     "output_type": "stream",
     "name": "stdout",
     "output_type": "stream",
     "text": [
      "+-------------+--------------+\n|    continent|countOfRecords|\n+-------------+--------------+\n|         null|          9956|\n|       Africa|         39417|\n|         Asia|         36200|\n|       Europe|         37088|\n|North America|         24931|\n|      Oceania|          9217|\n|South America|          9517|\n+-------------+--------------+\n\n"
     ]
    }
   ],
   "source": [
    "#Importing the important libraries\n",
    "from pyspark.sql.functions import col\n",
    "\n",
    "#Let us try to change the name of column to something appropriate and keep them sorted by contient name\n",
    "\n",
    "\n",
    "df.groupBy(\"continent\")\\\n",
    "    .count()\\\n",
    "    .withColumnRenamed(\"count\",\"countOfRecords\")\\\n",
    "    .orderBy(col(\"continent\"))\\\n",
    "    .show()"
   ]
  },
  {
   "cell_type": "markdown",
   "metadata": {
    "application/vnd.databricks.v1+cell": {
     "cellMetadata": {},
     "inputWidgets": {},
     "nuid": "a7da36e4-79db-4e38-9a10-b5c5120c4421",
     "showTitle": false,
     "tableResultSettingsMap": {},
     "title": ""
    }
   },
   "source": [
    "This shows that most of the records belong to Africa, Asia and Europe with count of more than 30000+"
   ]
  },
  {
   "cell_type": "code",
   "execution_count": 0,
   "metadata": {
    "application/vnd.databricks.v1+cell": {
     "cellMetadata": {
      "byteLimit": 2048000,
      "rowLimit": 10000
     },
     "inputWidgets": {},
     "nuid": "6f2fc36d-8bcd-45e3-9807-151c4bd9f989",
     "showTitle": false,
     "tableResultSettingsMap": {},
     "title": ""
    }
   },
   "outputs": [
    {
     "output_type": "stream",
     "name": "stdout",
     "output_type": "stream",
     "text": [
      "+-------------+--------------+\n|    continent|countOfRecords|\n+-------------+--------------+\n|       Africa|         39417|\n|         Asia|         36200|\n|       Europe|         37088|\n|North America|         24931|\n|      Oceania|          9217|\n|South America|          9517|\n+-------------+--------------+\n\n"
     ]
    }
   ],
   "source": [
    "#But here we are seeing the null values as well. Let us remove them and see the result.\n",
    "df.filter(col(\"continent\").isNotNull())\\\n",
    "  .groupBy(\"continent\").count().withColumnRenamed(\"count\",\"countOfRecords\")\\\n",
    "    .orderBy(col(\"continent\")).show()"
   ]
  },
  {
   "cell_type": "markdown",
   "metadata": {
    "application/vnd.databricks.v1+cell": {
     "cellMetadata": {},
     "inputWidgets": {},
     "nuid": "ff025ca4-7d67-41ae-8d94-7a3eef29f656",
     "showTitle": false,
     "tableResultSettingsMap": {},
     "title": ""
    }
   },
   "source": [
    "This shows the count for each column without giving the count of NULL values. "
   ]
  },
  {
   "cell_type": "code",
   "execution_count": 0,
   "metadata": {
    "application/vnd.databricks.v1+cell": {
     "cellMetadata": {
      "byteLimit": 2048000,
      "rowLimit": 10000
     },
     "inputWidgets": {},
     "nuid": "5930d30a-008a-468b-b60a-5e2336d08909",
     "showTitle": false,
     "tableResultSettingsMap": {},
     "title": ""
    }
   },
   "outputs": [
    {
     "output_type": "stream",
     "name": "stdout",
     "output_type": "stream",
     "text": [
      "+-------------------+\n|           location|\n+-------------------+\n|             Africa|\n|               Asia|\n|             Europe|\n|     European Union|\n|        High income|\n|Lower middle income|\n|      International|\n|         Low income|\n|      North America|\n|            Oceania|\n|      South America|\n|              World|\n|Upper middle income|\n+-------------------+\n\n"
     ]
    }
   ],
   "source": [
    "df.filter(col(\"continent\").isNull()) \\\n",
    "  .select(\"location\") \\\n",
    "  .distinct().show()"
   ]
  },
  {
   "cell_type": "code",
   "execution_count": 0,
   "metadata": {
    "application/vnd.databricks.v1+cell": {
     "cellMetadata": {
      "byteLimit": 2048000,
      "rowLimit": 10000
     },
     "inputWidgets": {},
     "nuid": "9fc4b035-8503-48f4-b84a-c6f6ef81b00b",
     "showTitle": false,
     "tableResultSettingsMap": {},
     "title": ""
    }
   },
   "outputs": [],
   "source": [
    "string_cols = [f.name for f in df.schema.fields if f.dataType.simpleString() == 'string'] #Getting all the columns having string data types\n",
    "numeric_cols = [f.name for f in df.schema.fields if f.dataType.simpleString() in ['double', 'int', 'float', 'long']] #Getting all the columns having integer, float, long data type variable\n"
   ]
  },
  {
   "cell_type": "code",
   "execution_count": 0,
   "metadata": {
    "application/vnd.databricks.v1+cell": {
     "cellMetadata": {
      "byteLimit": 2048000,
      "rowLimit": 10000
     },
     "inputWidgets": {},
     "nuid": "1c0c0d17-b9e8-4e17-ba79-5831755af084",
     "showTitle": false,
     "tableResultSettingsMap": {},
     "title": ""
    }
   },
   "outputs": [
    {
     "output_type": "stream",
     "name": "stdout",
     "output_type": "stream",
     "text": [
      "Out[39]: ['iso_code', 'continent', 'location', 'tests_units']"
     ]
    }
   ],
   "source": [
    "string_cols"
   ]
  },
  {
   "cell_type": "code",
   "execution_count": 0,
   "metadata": {
    "application/vnd.databricks.v1+cell": {
     "cellMetadata": {
      "byteLimit": 2048000,
      "rowLimit": 10000
     },
     "inputWidgets": {},
     "nuid": "2c452217-2d76-4419-a5b0-30c3615ec837",
     "showTitle": false,
     "tableResultSettingsMap": {},
     "title": ""
    }
   },
   "outputs": [
    {
     "output_type": "stream",
     "name": "stdout",
     "output_type": "stream",
     "text": [
      "Out[40]: ['total_cases',\n 'new_cases',\n 'new_cases_smoothed',\n 'total_deaths',\n 'new_deaths',\n 'new_deaths_smoothed',\n 'total_cases_per_million',\n 'new_cases_per_million',\n 'new_cases_smoothed_per_million',\n 'total_deaths_per_million',\n 'new_deaths_per_million',\n 'new_deaths_smoothed_per_million',\n 'reproduction_rate',\n 'icu_patients',\n 'icu_patients_per_million',\n 'hosp_patients',\n 'hosp_patients_per_million',\n 'weekly_icu_admissions',\n 'weekly_icu_admissions_per_million',\n 'weekly_hosp_admissions',\n 'weekly_hosp_admissions_per_million',\n 'new_tests',\n 'total_tests',\n 'total_tests_per_thousand',\n 'new_tests_per_thousand',\n 'new_tests_smoothed',\n 'new_tests_smoothed_per_thousand',\n 'positive_rate',\n 'tests_per_case',\n 'total_vaccinations',\n 'people_vaccinated',\n 'people_fully_vaccinated',\n 'total_boosters',\n 'new_vaccinations',\n 'new_vaccinations_smoothed',\n 'total_vaccinations_per_hundred',\n 'people_vaccinated_per_hundred',\n 'people_fully_vaccinated_per_hundred',\n 'total_boosters_per_hundred',\n 'new_vaccinations_smoothed_per_million',\n 'new_people_vaccinated_smoothed',\n 'new_people_vaccinated_smoothed_per_hundred',\n 'stringency_index',\n 'population',\n 'population_density',\n 'median_age',\n 'aged_65_older',\n 'aged_70_older',\n 'gdp_per_capita',\n 'extreme_poverty',\n 'cardiovasc_death_rate',\n 'diabetes_prevalence',\n 'female_smokers',\n 'male_smokers',\n 'handwashing_facilities',\n 'hospital_beds_per_thousand',\n 'life_expectancy',\n 'human_development_index',\n 'excess_mortality_cumulative_absolute',\n 'excess_mortality_cumulative',\n 'excess_mortality',\n 'excess_mortality_cumulative_per_million']"
     ]
    }
   ],
   "source": [
    "numeric_cols"
   ]
  },
  {
   "cell_type": "code",
   "execution_count": 0,
   "metadata": {
    "application/vnd.databricks.v1+cell": {
     "cellMetadata": {
      "byteLimit": 2048000,
      "rowLimit": 10000
     },
     "inputWidgets": {},
     "nuid": "4d249f10-5407-4ee1-b87e-16923bffa2b8",
     "showTitle": false,
     "tableResultSettingsMap": {},
     "title": ""
    }
   },
   "outputs": [],
   "source": [
    "df_filled = df.fillna(\"Unknown\", subset=string_cols)"
   ]
  },
  {
   "cell_type": "code",
   "execution_count": 0,
   "metadata": {
    "application/vnd.databricks.v1+cell": {
     "cellMetadata": {
      "byteLimit": 2048000,
      "rowLimit": 10000
     },
     "inputWidgets": {},
     "nuid": "c79af548-ea13-4617-b2b8-a94cc8229ebc",
     "showTitle": false,
     "tableResultSettingsMap": {},
     "title": ""
    }
   },
   "outputs": [],
   "source": [
    "from pyspark.sql.functions import mean\n",
    "\n",
    "# Create dictionary with column: mean_value\n",
    "mean_values = df.select([\n",
    "    mean(c).alias(c) for c in numeric_cols\n",
    "]).collect()[0].asDict()\n",
    "\n",
    "# Fill nulls\n",
    "df_filled = df_filled.fillna(mean_values)"
   ]
  },
  {
   "cell_type": "code",
   "execution_count": 0,
   "metadata": {
    "application/vnd.databricks.v1+cell": {
     "cellMetadata": {
      "byteLimit": 2048000,
      "rowLimit": 10000
     },
     "inputWidgets": {},
     "nuid": "645b3663-d623-4325-a897-6fe4106b85a5",
     "showTitle": false,
     "tableResultSettingsMap": {},
     "title": ""
    }
   },
   "outputs": [],
   "source": [
    "parquet_path = \"s3a://dj-databricks-pipeline/owid-covid-parquet\"\n",
    "\n",
    "df_filled.write.mode(\"overwrite\").parquet(parquet_path)\n"
   ]
  },
  {
   "cell_type": "code",
   "execution_count": 0,
   "metadata": {
    "application/vnd.databricks.v1+cell": {
     "cellMetadata": {},
     "inputWidgets": {},
     "nuid": "68aefd35-a30f-45aa-9de7-f1858aa6cff6",
     "showTitle": false,
     "tableResultSettingsMap": {},
     "title": ""
    }
   },
   "outputs": [],
   "source": []
  }
 ],
 "metadata": {
  "application/vnd.databricks.v1+notebook": {
   "computePreferences": null,
   "dashboards": [],
   "environmentMetadata": {
    "base_environment": "",
    "environment_version": "1"
   },
   "inputWidgetPreferences": null,
   "language": "python",
   "notebookMetadata": {
    "pythonIndentUnit": 4
   },
   "notebookName": "csv_to_parquet_pipeline",
   "widgets": {}
  }
 },
 "nbformat": 4,
 "nbformat_minor": 0
}